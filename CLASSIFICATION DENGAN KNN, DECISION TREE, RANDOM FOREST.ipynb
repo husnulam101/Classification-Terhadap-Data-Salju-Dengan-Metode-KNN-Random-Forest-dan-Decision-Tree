{
  "nbformat": 4,
  "nbformat_minor": 0,
  "metadata": {
    "colab": {
      "name": "1301174632_1301171751_HusnulAM_AhmadFarhan.ipynb",
      "provenance": [],
      "collapsed_sections": [],
      "toc_visible": true
    },
    "kernelspec": {
      "name": "python3",
      "display_name": "Python 3"
    },
    "language_info": {
      "name": "python"
    }
  },
  "cells": [
    {
      "cell_type": "code",
      "metadata": {
        "id": "gnenb7dPWQVp"
      },
      "source": [
        "import pandas as pd\n",
        "import numpy as np\n",
        "import matplotlib.pyplot as plt\n",
        "import seaborn as sns\n",
        "import category_encoders as ce\n",
        "from sklearn.preprocessing import OneHotEncoder\n",
        "from sklearn.model_selection import train_test_split\n",
        "from sklearn.metrics import confusion_matrix, classification_report"
      ],
      "execution_count": 104,
      "outputs": []
    },
    {
      "cell_type": "code",
      "metadata": {
        "colab": {
          "base_uri": "https://localhost:8080/",
          "height": 222
        },
        "id": "SDpnmiwBXD0o",
        "outputId": "c70c1f54-f7c6-485a-b960-f7b5a1a3a7f1"
      },
      "source": [
        "#data salju train\n",
        "datatrain = pd.read_csv('salju_train.csv')\n",
        "datatrain.head()"
      ],
      "execution_count": 105,
      "outputs": [
        {
          "output_type": "execute_result",
          "data": {
            "text/html": [
              "<div>\n",
              "<style scoped>\n",
              "    .dataframe tbody tr th:only-of-type {\n",
              "        vertical-align: middle;\n",
              "    }\n",
              "\n",
              "    .dataframe tbody tr th {\n",
              "        vertical-align: top;\n",
              "    }\n",
              "\n",
              "    .dataframe thead th {\n",
              "        text-align: right;\n",
              "    }\n",
              "</style>\n",
              "<table border=\"1\" class=\"dataframe\">\n",
              "  <thead>\n",
              "    <tr style=\"text-align: right;\">\n",
              "      <th></th>\n",
              "      <th>id</th>\n",
              "      <th>Tanggal</th>\n",
              "      <th>KodeLokasi</th>\n",
              "      <th>SuhuMin</th>\n",
              "      <th>SuhuMax</th>\n",
              "      <th>Hujan</th>\n",
              "      <th>Penguapan</th>\n",
              "      <th>SinarMatahari</th>\n",
              "      <th>ArahAnginTerkencang</th>\n",
              "      <th>KecepatanAnginTerkencang</th>\n",
              "      <th>ArahAngin9am</th>\n",
              "      <th>ArahAngin3pm</th>\n",
              "      <th>KecepatanAngin9am</th>\n",
              "      <th>KecepatanAngin3pm</th>\n",
              "      <th>Kelembaban9am</th>\n",
              "      <th>Kelembaban3pm</th>\n",
              "      <th>Tekanan9am</th>\n",
              "      <th>Tekanan3pm</th>\n",
              "      <th>Awan9am</th>\n",
              "      <th>Awan3pm</th>\n",
              "      <th>Suhu9am</th>\n",
              "      <th>Suhu3pm</th>\n",
              "      <th>BersaljuHariIni</th>\n",
              "      <th>BersaljuBesok</th>\n",
              "    </tr>\n",
              "  </thead>\n",
              "  <tbody>\n",
              "    <tr>\n",
              "      <th>0</th>\n",
              "      <td>1</td>\n",
              "      <td>01/06/2014</td>\n",
              "      <td>C4</td>\n",
              "      <td>10.4</td>\n",
              "      <td>15.5</td>\n",
              "      <td>4.8</td>\n",
              "      <td>NaN</td>\n",
              "      <td>NaN</td>\n",
              "      <td>WSW</td>\n",
              "      <td>24.0</td>\n",
              "      <td>NaN</td>\n",
              "      <td>WSW</td>\n",
              "      <td>0.0</td>\n",
              "      <td>13.0</td>\n",
              "      <td>78.0</td>\n",
              "      <td>76.0</td>\n",
              "      <td>1020.1</td>\n",
              "      <td>1018.5</td>\n",
              "      <td>NaN</td>\n",
              "      <td>NaN</td>\n",
              "      <td>13.1</td>\n",
              "      <td>15.0</td>\n",
              "      <td>Ya</td>\n",
              "      <td>Tidak</td>\n",
              "    </tr>\n",
              "    <tr>\n",
              "      <th>1</th>\n",
              "      <td>2</td>\n",
              "      <td>15/07/2014</td>\n",
              "      <td>C10</td>\n",
              "      <td>9.0</td>\n",
              "      <td>17.0</td>\n",
              "      <td>8.0</td>\n",
              "      <td>2.6</td>\n",
              "      <td>7.4</td>\n",
              "      <td>NaN</td>\n",
              "      <td>NaN</td>\n",
              "      <td>SW</td>\n",
              "      <td>WNW</td>\n",
              "      <td>13.0</td>\n",
              "      <td>20.0</td>\n",
              "      <td>80.0</td>\n",
              "      <td>61.0</td>\n",
              "      <td>1015.2</td>\n",
              "      <td>1014.6</td>\n",
              "      <td>7.0</td>\n",
              "      <td>5.0</td>\n",
              "      <td>11.9</td>\n",
              "      <td>15.5</td>\n",
              "      <td>Ya</td>\n",
              "      <td>Ya</td>\n",
              "    </tr>\n",
              "    <tr>\n",
              "      <th>2</th>\n",
              "      <td>3</td>\n",
              "      <td>16/02/2011</td>\n",
              "      <td>C46</td>\n",
              "      <td>18.2</td>\n",
              "      <td>32.0</td>\n",
              "      <td>0.0</td>\n",
              "      <td>NaN</td>\n",
              "      <td>NaN</td>\n",
              "      <td>ESE</td>\n",
              "      <td>44.0</td>\n",
              "      <td>SE</td>\n",
              "      <td>SE</td>\n",
              "      <td>15.0</td>\n",
              "      <td>26.0</td>\n",
              "      <td>62.0</td>\n",
              "      <td>42.0</td>\n",
              "      <td>NaN</td>\n",
              "      <td>NaN</td>\n",
              "      <td>NaN</td>\n",
              "      <td>NaN</td>\n",
              "      <td>23.8</td>\n",
              "      <td>29.6</td>\n",
              "      <td>Tidak</td>\n",
              "      <td>Tidak</td>\n",
              "    </tr>\n",
              "    <tr>\n",
              "      <th>3</th>\n",
              "      <td>4</td>\n",
              "      <td>08/08/2012</td>\n",
              "      <td>C36</td>\n",
              "      <td>7.3</td>\n",
              "      <td>24.5</td>\n",
              "      <td>0.0</td>\n",
              "      <td>8.4</td>\n",
              "      <td>10.4</td>\n",
              "      <td>SSW</td>\n",
              "      <td>54.0</td>\n",
              "      <td>N</td>\n",
              "      <td>SW</td>\n",
              "      <td>13.0</td>\n",
              "      <td>19.0</td>\n",
              "      <td>25.0</td>\n",
              "      <td>17.0</td>\n",
              "      <td>1019.2</td>\n",
              "      <td>1016.9</td>\n",
              "      <td>1.0</td>\n",
              "      <td>7.0</td>\n",
              "      <td>15.3</td>\n",
              "      <td>23.2</td>\n",
              "      <td>Tidak</td>\n",
              "      <td>Tidak</td>\n",
              "    </tr>\n",
              "    <tr>\n",
              "      <th>4</th>\n",
              "      <td>5</td>\n",
              "      <td>29/10/2016</td>\n",
              "      <td>C7</td>\n",
              "      <td>5.9</td>\n",
              "      <td>20.3</td>\n",
              "      <td>0.0</td>\n",
              "      <td>3.6</td>\n",
              "      <td>12.6</td>\n",
              "      <td>N</td>\n",
              "      <td>37.0</td>\n",
              "      <td>NNW</td>\n",
              "      <td>ESE</td>\n",
              "      <td>22.0</td>\n",
              "      <td>19.0</td>\n",
              "      <td>55.0</td>\n",
              "      <td>48.0</td>\n",
              "      <td>1019.7</td>\n",
              "      <td>1014.7</td>\n",
              "      <td>2.0</td>\n",
              "      <td>6.0</td>\n",
              "      <td>12.4</td>\n",
              "      <td>18.1</td>\n",
              "      <td>Tidak</td>\n",
              "      <td>Tidak</td>\n",
              "    </tr>\n",
              "  </tbody>\n",
              "</table>\n",
              "</div>"
            ],
            "text/plain": [
              "   id     Tanggal KodeLokasi  ...  Suhu3pm  BersaljuHariIni  BersaljuBesok\n",
              "0   1  01/06/2014         C4  ...     15.0               Ya          Tidak\n",
              "1   2  15/07/2014        C10  ...     15.5               Ya             Ya\n",
              "2   3  16/02/2011        C46  ...     29.6            Tidak          Tidak\n",
              "3   4  08/08/2012        C36  ...     23.2            Tidak          Tidak\n",
              "4   5  29/10/2016         C7  ...     18.1            Tidak          Tidak\n",
              "\n",
              "[5 rows x 24 columns]"
            ]
          },
          "metadata": {
            "tags": []
          },
          "execution_count": 105
        }
      ]
    },
    {
      "cell_type": "markdown",
      "metadata": {
        "id": "rMZH4rUXiv9Q"
      },
      "source": [
        "#1. Explorasi Dataset "
      ]
    },
    {
      "cell_type": "code",
      "metadata": {
        "colab": {
          "base_uri": "https://localhost:8080/"
        },
        "id": "vRI8J1U_a_U4",
        "outputId": "23b8e8cc-6705-4917-feff-e9151527854d"
      },
      "source": [
        "print(datatrain.shape)\n",
        "print(type(datatrain))"
      ],
      "execution_count": 106,
      "outputs": [
        {
          "output_type": "stream",
          "text": [
            "(109095, 24)\n",
            "<class 'pandas.core.frame.DataFrame'>\n"
          ],
          "name": "stdout"
        }
      ]
    },
    {
      "cell_type": "markdown",
      "metadata": {
        "id": "UrrWZxdKjDya"
      },
      "source": [
        "Dataset salju_train memiliki 24 atribut dan 109095 baris data."
      ]
    },
    {
      "cell_type": "code",
      "metadata": {
        "colab": {
          "base_uri": "https://localhost:8080/"
        },
        "id": "41xAhn6mi6sJ",
        "outputId": "edb91c26-b713-4788-eea5-3ba8ca609c67"
      },
      "source": [
        "datatrain['BersaljuBesok'].value_counts()"
      ],
      "execution_count": 107,
      "outputs": [
        {
          "output_type": "execute_result",
          "data": {
            "text/plain": [
              "Tidak    82701\n",
              "Ya       23963\n",
              "Name: BersaljuBesok, dtype: int64"
            ]
          },
          "metadata": {
            "tags": []
          },
          "execution_count": 107
        }
      ]
    },
    {
      "cell_type": "code",
      "metadata": {
        "colab": {
          "base_uri": "https://localhost:8080/"
        },
        "id": "I4SG9udlqDhH",
        "outputId": "1ff9fd27-d5ec-4e98-bfd3-621028887e8a"
      },
      "source": [
        "datatrain.dtypes"
      ],
      "execution_count": 108,
      "outputs": [
        {
          "output_type": "execute_result",
          "data": {
            "text/plain": [
              "id                            int64\n",
              "Tanggal                      object\n",
              "KodeLokasi                   object\n",
              "SuhuMin                     float64\n",
              "SuhuMax                     float64\n",
              "Hujan                       float64\n",
              "Penguapan                   float64\n",
              "SinarMatahari               float64\n",
              "ArahAnginTerkencang          object\n",
              "KecepatanAnginTerkencang    float64\n",
              "ArahAngin9am                 object\n",
              "ArahAngin3pm                 object\n",
              "KecepatanAngin9am           float64\n",
              "KecepatanAngin3pm           float64\n",
              "Kelembaban9am               float64\n",
              "Kelembaban3pm               float64\n",
              "Tekanan9am                  float64\n",
              "Tekanan3pm                  float64\n",
              "Awan9am                     float64\n",
              "Awan3pm                     float64\n",
              "Suhu9am                     float64\n",
              "Suhu3pm                     float64\n",
              "BersaljuHariIni              object\n",
              "BersaljuBesok                object\n",
              "dtype: object"
            ]
          },
          "metadata": {
            "tags": []
          },
          "execution_count": 108
        }
      ]
    },
    {
      "cell_type": "markdown",
      "metadata": {
        "id": "3NjJwiMvjMAE"
      },
      "source": [
        "Untuk Class 'BersaljuBesok', terdapat 23963 data yang 'Ya' dan 82701 yang 'Tidak'."
      ]
    },
    {
      "cell_type": "markdown",
      "metadata": {
        "id": "VUsKiVaVsI-X"
      },
      "source": [
        "#2. Mengatasi Missing Values"
      ]
    },
    {
      "cell_type": "code",
      "metadata": {
        "colab": {
          "base_uri": "https://localhost:8080/"
        },
        "id": "53s0yffVjZwZ",
        "outputId": "d968ee3e-372b-410d-e665-2e28568ec32d"
      },
      "source": [
        "#mengecek ada data null\n",
        "datatrain.isnull().sum()"
      ],
      "execution_count": 109,
      "outputs": [
        {
          "output_type": "execute_result",
          "data": {
            "text/plain": [
              "id                              0\n",
              "Tanggal                         0\n",
              "KodeLokasi                      0\n",
              "SuhuMin                      1122\n",
              "SuhuMax                       929\n",
              "Hujan                        2431\n",
              "Penguapan                   47024\n",
              "SinarMatahari               52379\n",
              "ArahAnginTerkencang          7744\n",
              "KecepatanAnginTerkencang     7696\n",
              "ArahAngin9am                 7923\n",
              "ArahAngin3pm                 3197\n",
              "KecepatanAngin9am            1353\n",
              "KecepatanAngin3pm            2303\n",
              "Kelembaban9am                2002\n",
              "Kelembaban3pm                3374\n",
              "Tekanan9am                  11327\n",
              "Tekanan3pm                  11308\n",
              "Awan9am                     41844\n",
              "Awan3pm                     44471\n",
              "Suhu9am                      1340\n",
              "Suhu3pm                      2698\n",
              "BersaljuHariIni              2431\n",
              "BersaljuBesok                2431\n",
              "dtype: int64"
            ]
          },
          "metadata": {
            "tags": []
          },
          "execution_count": 109
        }
      ]
    },
    {
      "cell_type": "markdown",
      "metadata": {
        "id": "KgRrfayFlDUz"
      },
      "source": [
        "Bisa terlihat terdapat banyak sekali data null untuk data numerikal dan kategorikal. \n",
        "\n",
        "Untuk mengatasi missing value untuk data numerikal, dataset harus diketahui apakah dataset tersebut skewed atau tidak. Skewness merupakan teknik pengukuran apabila distribusi tiap data simetrik atau tidak. Jika rentan nilai skewness berada di antara 2 dan -2, maka dipakailah mean. Jika tidak, dipakailah median"
      ]
    },
    {
      "cell_type": "code",
      "metadata": {
        "colab": {
          "base_uri": "https://localhost:8080/"
        },
        "id": "1D90TDMSji5v",
        "outputId": "c1310052-64e1-4a8d-898c-519f40d2fba0"
      },
      "source": [
        "#melihat apakah data tersebut skew\n",
        "datatrain.skew(axis=0, skipna=True)"
      ],
      "execution_count": 110,
      "outputs": [
        {
          "output_type": "execute_result",
          "data": {
            "text/plain": [
              "id                           0.000000\n",
              "SuhuMin                      0.018027\n",
              "SuhuMax                      0.220794\n",
              "Hujan                       10.059372\n",
              "Penguapan                    3.916398\n",
              "SinarMatahari               -0.493987\n",
              "KecepatanAnginTerkencang     0.875967\n",
              "KecepatanAngin9am            0.783795\n",
              "KecepatanAngin3pm            0.622092\n",
              "Kelembaban9am               -0.481203\n",
              "Kelembaban3pm                0.033181\n",
              "Tekanan9am                  -0.098483\n",
              "Tekanan3pm                  -0.049309\n",
              "Awan9am                     -0.230423\n",
              "Awan3pm                     -0.227323\n",
              "Suhu9am                      0.085140\n",
              "Suhu3pm                      0.238056\n",
              "dtype: float64"
            ]
          },
          "metadata": {
            "tags": []
          },
          "execution_count": 110
        }
      ]
    },
    {
      "cell_type": "markdown",
      "metadata": {
        "id": "A1zMnBhylqpA"
      },
      "source": [
        "Karena adanya beberapa atribut yang mempunyai nilai skewness diatas 2, berarti metode yang akan dipakai untuk missing values adalah median"
      ]
    },
    {
      "cell_type": "code",
      "metadata": {
        "id": "TfyKxSMhlp5x"
      },
      "source": [
        "#mengatasi missing values dengan median\n",
        "datatrain.fillna(datatrain.median(), inplace=True)"
      ],
      "execution_count": 111,
      "outputs": []
    },
    {
      "cell_type": "markdown",
      "metadata": {
        "id": "NWe7kk1Ar1jZ"
      },
      "source": [
        "Setelah menangani data numerik, sekarang mengatasi missing value di data kategorik. Untuk data kategorik, akan digunakan library SimpleImpute"
      ]
    },
    {
      "cell_type": "code",
      "metadata": {
        "id": "ilHGOInfl_Nw"
      },
      "source": [
        "from sklearn.impute import SimpleImputer\n",
        "imputer = SimpleImputer(missing_values=np.nan, strategy='most_frequent')\n",
        "datatrain = pd.DataFrame(imputer.fit_transform(datatrain))"
      ],
      "execution_count": 112,
      "outputs": []
    },
    {
      "cell_type": "code",
      "metadata": {
        "colab": {
          "base_uri": "https://localhost:8080/"
        },
        "id": "TeFvaeuukRel",
        "outputId": "63479297-e4f9-4850-cb8f-9dec6b6770c9"
      },
      "source": [
        "datatrain.isnull().sum()"
      ],
      "execution_count": 113,
      "outputs": [
        {
          "output_type": "execute_result",
          "data": {
            "text/plain": [
              "0     0\n",
              "1     0\n",
              "2     0\n",
              "3     0\n",
              "4     0\n",
              "5     0\n",
              "6     0\n",
              "7     0\n",
              "8     0\n",
              "9     0\n",
              "10    0\n",
              "11    0\n",
              "12    0\n",
              "13    0\n",
              "14    0\n",
              "15    0\n",
              "16    0\n",
              "17    0\n",
              "18    0\n",
              "19    0\n",
              "20    0\n",
              "21    0\n",
              "22    0\n",
              "23    0\n",
              "dtype: int64"
            ]
          },
          "metadata": {
            "tags": []
          },
          "execution_count": 113
        }
      ]
    },
    {
      "cell_type": "code",
      "metadata": {
        "id": "zZ36vcpmujns"
      },
      "source": [
        "#mengganti nama kolom\n",
        "datatrain = datatrain.set_axis(['id', 'Tanggal', 'KodeLokasi', 'SuhuMin', 'SuhuMax', 'Hujan',\n",
        "                                'Penguapan', 'SinarMatahari', 'ArahAnginTerkencang',\n",
        "                                'KecepatanAnginTerkencang', 'ArahAngin9am', 'ArahAngin3pm',\n",
        "                                'KecepatanAngin9am', 'KecepatanAngin3pm', 'Kelembaban9am',\n",
        "                                'Kelembaban3pm', 'Tekanan9am', 'Tekanan3pm', 'Awan9am', 'Awan3pm',\n",
        "                                'Suhu9am', 'Suhu3pm', 'BersaljuHariIni', 'BersaljuBesok'], axis=1, inplace=False)\n"
      ],
      "execution_count": 114,
      "outputs": []
    },
    {
      "cell_type": "code",
      "metadata": {
        "colab": {
          "base_uri": "https://localhost:8080/",
          "height": 222
        },
        "id": "bCQbtNqm0jTt",
        "outputId": "c396ff9e-6747-4d40-fd7e-0ab6b609b42b"
      },
      "source": [
        "datatrain.head()"
      ],
      "execution_count": 115,
      "outputs": [
        {
          "output_type": "execute_result",
          "data": {
            "text/html": [
              "<div>\n",
              "<style scoped>\n",
              "    .dataframe tbody tr th:only-of-type {\n",
              "        vertical-align: middle;\n",
              "    }\n",
              "\n",
              "    .dataframe tbody tr th {\n",
              "        vertical-align: top;\n",
              "    }\n",
              "\n",
              "    .dataframe thead th {\n",
              "        text-align: right;\n",
              "    }\n",
              "</style>\n",
              "<table border=\"1\" class=\"dataframe\">\n",
              "  <thead>\n",
              "    <tr style=\"text-align: right;\">\n",
              "      <th></th>\n",
              "      <th>id</th>\n",
              "      <th>Tanggal</th>\n",
              "      <th>KodeLokasi</th>\n",
              "      <th>SuhuMin</th>\n",
              "      <th>SuhuMax</th>\n",
              "      <th>Hujan</th>\n",
              "      <th>Penguapan</th>\n",
              "      <th>SinarMatahari</th>\n",
              "      <th>ArahAnginTerkencang</th>\n",
              "      <th>KecepatanAnginTerkencang</th>\n",
              "      <th>ArahAngin9am</th>\n",
              "      <th>ArahAngin3pm</th>\n",
              "      <th>KecepatanAngin9am</th>\n",
              "      <th>KecepatanAngin3pm</th>\n",
              "      <th>Kelembaban9am</th>\n",
              "      <th>Kelembaban3pm</th>\n",
              "      <th>Tekanan9am</th>\n",
              "      <th>Tekanan3pm</th>\n",
              "      <th>Awan9am</th>\n",
              "      <th>Awan3pm</th>\n",
              "      <th>Suhu9am</th>\n",
              "      <th>Suhu3pm</th>\n",
              "      <th>BersaljuHariIni</th>\n",
              "      <th>BersaljuBesok</th>\n",
              "    </tr>\n",
              "  </thead>\n",
              "  <tbody>\n",
              "    <tr>\n",
              "      <th>0</th>\n",
              "      <td>1</td>\n",
              "      <td>01/06/2014</td>\n",
              "      <td>C4</td>\n",
              "      <td>10.4</td>\n",
              "      <td>15.5</td>\n",
              "      <td>4.8</td>\n",
              "      <td>4.8</td>\n",
              "      <td>8.4</td>\n",
              "      <td>WSW</td>\n",
              "      <td>24</td>\n",
              "      <td>N</td>\n",
              "      <td>WSW</td>\n",
              "      <td>0</td>\n",
              "      <td>13</td>\n",
              "      <td>78</td>\n",
              "      <td>76</td>\n",
              "      <td>1020.1</td>\n",
              "      <td>1018.5</td>\n",
              "      <td>5</td>\n",
              "      <td>5</td>\n",
              "      <td>13.1</td>\n",
              "      <td>15</td>\n",
              "      <td>Ya</td>\n",
              "      <td>Tidak</td>\n",
              "    </tr>\n",
              "    <tr>\n",
              "      <th>1</th>\n",
              "      <td>2</td>\n",
              "      <td>15/07/2014</td>\n",
              "      <td>C10</td>\n",
              "      <td>9</td>\n",
              "      <td>17</td>\n",
              "      <td>8</td>\n",
              "      <td>2.6</td>\n",
              "      <td>7.4</td>\n",
              "      <td>W</td>\n",
              "      <td>39</td>\n",
              "      <td>SW</td>\n",
              "      <td>WNW</td>\n",
              "      <td>13</td>\n",
              "      <td>20</td>\n",
              "      <td>80</td>\n",
              "      <td>61</td>\n",
              "      <td>1015.2</td>\n",
              "      <td>1014.6</td>\n",
              "      <td>7</td>\n",
              "      <td>5</td>\n",
              "      <td>11.9</td>\n",
              "      <td>15.5</td>\n",
              "      <td>Ya</td>\n",
              "      <td>Ya</td>\n",
              "    </tr>\n",
              "    <tr>\n",
              "      <th>2</th>\n",
              "      <td>3</td>\n",
              "      <td>16/02/2011</td>\n",
              "      <td>C46</td>\n",
              "      <td>18.2</td>\n",
              "      <td>32</td>\n",
              "      <td>0</td>\n",
              "      <td>4.8</td>\n",
              "      <td>8.4</td>\n",
              "      <td>ESE</td>\n",
              "      <td>44</td>\n",
              "      <td>SE</td>\n",
              "      <td>SE</td>\n",
              "      <td>15</td>\n",
              "      <td>26</td>\n",
              "      <td>62</td>\n",
              "      <td>42</td>\n",
              "      <td>1017.6</td>\n",
              "      <td>1015.2</td>\n",
              "      <td>5</td>\n",
              "      <td>5</td>\n",
              "      <td>23.8</td>\n",
              "      <td>29.6</td>\n",
              "      <td>Tidak</td>\n",
              "      <td>Tidak</td>\n",
              "    </tr>\n",
              "    <tr>\n",
              "      <th>3</th>\n",
              "      <td>4</td>\n",
              "      <td>08/08/2012</td>\n",
              "      <td>C36</td>\n",
              "      <td>7.3</td>\n",
              "      <td>24.5</td>\n",
              "      <td>0</td>\n",
              "      <td>8.4</td>\n",
              "      <td>10.4</td>\n",
              "      <td>SSW</td>\n",
              "      <td>54</td>\n",
              "      <td>N</td>\n",
              "      <td>SW</td>\n",
              "      <td>13</td>\n",
              "      <td>19</td>\n",
              "      <td>25</td>\n",
              "      <td>17</td>\n",
              "      <td>1019.2</td>\n",
              "      <td>1016.9</td>\n",
              "      <td>1</td>\n",
              "      <td>7</td>\n",
              "      <td>15.3</td>\n",
              "      <td>23.2</td>\n",
              "      <td>Tidak</td>\n",
              "      <td>Tidak</td>\n",
              "    </tr>\n",
              "    <tr>\n",
              "      <th>4</th>\n",
              "      <td>5</td>\n",
              "      <td>29/10/2016</td>\n",
              "      <td>C7</td>\n",
              "      <td>5.9</td>\n",
              "      <td>20.3</td>\n",
              "      <td>0</td>\n",
              "      <td>3.6</td>\n",
              "      <td>12.6</td>\n",
              "      <td>N</td>\n",
              "      <td>37</td>\n",
              "      <td>NNW</td>\n",
              "      <td>ESE</td>\n",
              "      <td>22</td>\n",
              "      <td>19</td>\n",
              "      <td>55</td>\n",
              "      <td>48</td>\n",
              "      <td>1019.7</td>\n",
              "      <td>1014.7</td>\n",
              "      <td>2</td>\n",
              "      <td>6</td>\n",
              "      <td>12.4</td>\n",
              "      <td>18.1</td>\n",
              "      <td>Tidak</td>\n",
              "      <td>Tidak</td>\n",
              "    </tr>\n",
              "  </tbody>\n",
              "</table>\n",
              "</div>"
            ],
            "text/plain": [
              "  id     Tanggal KodeLokasi  ... Suhu3pm BersaljuHariIni BersaljuBesok\n",
              "0  1  01/06/2014         C4  ...      15              Ya         Tidak\n",
              "1  2  15/07/2014        C10  ...    15.5              Ya            Ya\n",
              "2  3  16/02/2011        C46  ...    29.6           Tidak         Tidak\n",
              "3  4  08/08/2012        C36  ...    23.2           Tidak         Tidak\n",
              "4  5  29/10/2016         C7  ...    18.1           Tidak         Tidak\n",
              "\n",
              "[5 rows x 24 columns]"
            ]
          },
          "metadata": {
            "tags": []
          },
          "execution_count": 115
        }
      ]
    },
    {
      "cell_type": "code",
      "metadata": {
        "colab": {
          "base_uri": "https://localhost:8080/",
          "height": 434
        },
        "id": "xfvdl8Ib89K4",
        "outputId": "19c9f901-74ea-4df2-b80f-9207ad0580da"
      },
      "source": [
        "datatrain.drop(['id'], axis=1)"
      ],
      "execution_count": 116,
      "outputs": [
        {
          "output_type": "execute_result",
          "data": {
            "text/html": [
              "<div>\n",
              "<style scoped>\n",
              "    .dataframe tbody tr th:only-of-type {\n",
              "        vertical-align: middle;\n",
              "    }\n",
              "\n",
              "    .dataframe tbody tr th {\n",
              "        vertical-align: top;\n",
              "    }\n",
              "\n",
              "    .dataframe thead th {\n",
              "        text-align: right;\n",
              "    }\n",
              "</style>\n",
              "<table border=\"1\" class=\"dataframe\">\n",
              "  <thead>\n",
              "    <tr style=\"text-align: right;\">\n",
              "      <th></th>\n",
              "      <th>Tanggal</th>\n",
              "      <th>KodeLokasi</th>\n",
              "      <th>SuhuMin</th>\n",
              "      <th>SuhuMax</th>\n",
              "      <th>Hujan</th>\n",
              "      <th>Penguapan</th>\n",
              "      <th>SinarMatahari</th>\n",
              "      <th>ArahAnginTerkencang</th>\n",
              "      <th>KecepatanAnginTerkencang</th>\n",
              "      <th>ArahAngin9am</th>\n",
              "      <th>ArahAngin3pm</th>\n",
              "      <th>KecepatanAngin9am</th>\n",
              "      <th>KecepatanAngin3pm</th>\n",
              "      <th>Kelembaban9am</th>\n",
              "      <th>Kelembaban3pm</th>\n",
              "      <th>Tekanan9am</th>\n",
              "      <th>Tekanan3pm</th>\n",
              "      <th>Awan9am</th>\n",
              "      <th>Awan3pm</th>\n",
              "      <th>Suhu9am</th>\n",
              "      <th>Suhu3pm</th>\n",
              "      <th>BersaljuHariIni</th>\n",
              "      <th>BersaljuBesok</th>\n",
              "    </tr>\n",
              "  </thead>\n",
              "  <tbody>\n",
              "    <tr>\n",
              "      <th>0</th>\n",
              "      <td>01/06/2014</td>\n",
              "      <td>C4</td>\n",
              "      <td>10.4</td>\n",
              "      <td>15.5</td>\n",
              "      <td>4.8</td>\n",
              "      <td>4.8</td>\n",
              "      <td>8.4</td>\n",
              "      <td>WSW</td>\n",
              "      <td>24</td>\n",
              "      <td>N</td>\n",
              "      <td>WSW</td>\n",
              "      <td>0</td>\n",
              "      <td>13</td>\n",
              "      <td>78</td>\n",
              "      <td>76</td>\n",
              "      <td>1020.1</td>\n",
              "      <td>1018.5</td>\n",
              "      <td>5</td>\n",
              "      <td>5</td>\n",
              "      <td>13.1</td>\n",
              "      <td>15</td>\n",
              "      <td>Ya</td>\n",
              "      <td>Tidak</td>\n",
              "    </tr>\n",
              "    <tr>\n",
              "      <th>1</th>\n",
              "      <td>15/07/2014</td>\n",
              "      <td>C10</td>\n",
              "      <td>9</td>\n",
              "      <td>17</td>\n",
              "      <td>8</td>\n",
              "      <td>2.6</td>\n",
              "      <td>7.4</td>\n",
              "      <td>W</td>\n",
              "      <td>39</td>\n",
              "      <td>SW</td>\n",
              "      <td>WNW</td>\n",
              "      <td>13</td>\n",
              "      <td>20</td>\n",
              "      <td>80</td>\n",
              "      <td>61</td>\n",
              "      <td>1015.2</td>\n",
              "      <td>1014.6</td>\n",
              "      <td>7</td>\n",
              "      <td>5</td>\n",
              "      <td>11.9</td>\n",
              "      <td>15.5</td>\n",
              "      <td>Ya</td>\n",
              "      <td>Ya</td>\n",
              "    </tr>\n",
              "    <tr>\n",
              "      <th>2</th>\n",
              "      <td>16/02/2011</td>\n",
              "      <td>C46</td>\n",
              "      <td>18.2</td>\n",
              "      <td>32</td>\n",
              "      <td>0</td>\n",
              "      <td>4.8</td>\n",
              "      <td>8.4</td>\n",
              "      <td>ESE</td>\n",
              "      <td>44</td>\n",
              "      <td>SE</td>\n",
              "      <td>SE</td>\n",
              "      <td>15</td>\n",
              "      <td>26</td>\n",
              "      <td>62</td>\n",
              "      <td>42</td>\n",
              "      <td>1017.6</td>\n",
              "      <td>1015.2</td>\n",
              "      <td>5</td>\n",
              "      <td>5</td>\n",
              "      <td>23.8</td>\n",
              "      <td>29.6</td>\n",
              "      <td>Tidak</td>\n",
              "      <td>Tidak</td>\n",
              "    </tr>\n",
              "    <tr>\n",
              "      <th>3</th>\n",
              "      <td>08/08/2012</td>\n",
              "      <td>C36</td>\n",
              "      <td>7.3</td>\n",
              "      <td>24.5</td>\n",
              "      <td>0</td>\n",
              "      <td>8.4</td>\n",
              "      <td>10.4</td>\n",
              "      <td>SSW</td>\n",
              "      <td>54</td>\n",
              "      <td>N</td>\n",
              "      <td>SW</td>\n",
              "      <td>13</td>\n",
              "      <td>19</td>\n",
              "      <td>25</td>\n",
              "      <td>17</td>\n",
              "      <td>1019.2</td>\n",
              "      <td>1016.9</td>\n",
              "      <td>1</td>\n",
              "      <td>7</td>\n",
              "      <td>15.3</td>\n",
              "      <td>23.2</td>\n",
              "      <td>Tidak</td>\n",
              "      <td>Tidak</td>\n",
              "    </tr>\n",
              "    <tr>\n",
              "      <th>4</th>\n",
              "      <td>29/10/2016</td>\n",
              "      <td>C7</td>\n",
              "      <td>5.9</td>\n",
              "      <td>20.3</td>\n",
              "      <td>0</td>\n",
              "      <td>3.6</td>\n",
              "      <td>12.6</td>\n",
              "      <td>N</td>\n",
              "      <td>37</td>\n",
              "      <td>NNW</td>\n",
              "      <td>ESE</td>\n",
              "      <td>22</td>\n",
              "      <td>19</td>\n",
              "      <td>55</td>\n",
              "      <td>48</td>\n",
              "      <td>1019.7</td>\n",
              "      <td>1014.7</td>\n",
              "      <td>2</td>\n",
              "      <td>6</td>\n",
              "      <td>12.4</td>\n",
              "      <td>18.1</td>\n",
              "      <td>Tidak</td>\n",
              "      <td>Tidak</td>\n",
              "    </tr>\n",
              "    <tr>\n",
              "      <th>...</th>\n",
              "      <td>...</td>\n",
              "      <td>...</td>\n",
              "      <td>...</td>\n",
              "      <td>...</td>\n",
              "      <td>...</td>\n",
              "      <td>...</td>\n",
              "      <td>...</td>\n",
              "      <td>...</td>\n",
              "      <td>...</td>\n",
              "      <td>...</td>\n",
              "      <td>...</td>\n",
              "      <td>...</td>\n",
              "      <td>...</td>\n",
              "      <td>...</td>\n",
              "      <td>...</td>\n",
              "      <td>...</td>\n",
              "      <td>...</td>\n",
              "      <td>...</td>\n",
              "      <td>...</td>\n",
              "      <td>...</td>\n",
              "      <td>...</td>\n",
              "      <td>...</td>\n",
              "      <td>...</td>\n",
              "    </tr>\n",
              "    <tr>\n",
              "      <th>109090</th>\n",
              "      <td>31/01/2009</td>\n",
              "      <td>C38</td>\n",
              "      <td>20.1</td>\n",
              "      <td>23.7</td>\n",
              "      <td>0</td>\n",
              "      <td>7.2</td>\n",
              "      <td>8.9</td>\n",
              "      <td>ESE</td>\n",
              "      <td>43</td>\n",
              "      <td>SE</td>\n",
              "      <td>ESE</td>\n",
              "      <td>24</td>\n",
              "      <td>26</td>\n",
              "      <td>74</td>\n",
              "      <td>70</td>\n",
              "      <td>1019.3</td>\n",
              "      <td>1017.6</td>\n",
              "      <td>4</td>\n",
              "      <td>6</td>\n",
              "      <td>22</td>\n",
              "      <td>22.1</td>\n",
              "      <td>Tidak</td>\n",
              "      <td>Ya</td>\n",
              "    </tr>\n",
              "    <tr>\n",
              "      <th>109091</th>\n",
              "      <td>03/11/2010</td>\n",
              "      <td>C16</td>\n",
              "      <td>15.7</td>\n",
              "      <td>25.2</td>\n",
              "      <td>0</td>\n",
              "      <td>4.8</td>\n",
              "      <td>8.4</td>\n",
              "      <td>SSE</td>\n",
              "      <td>37</td>\n",
              "      <td>SSE</td>\n",
              "      <td>E</td>\n",
              "      <td>28</td>\n",
              "      <td>19</td>\n",
              "      <td>52</td>\n",
              "      <td>52</td>\n",
              "      <td>1018.4</td>\n",
              "      <td>1016.2</td>\n",
              "      <td>5</td>\n",
              "      <td>5</td>\n",
              "      <td>23.8</td>\n",
              "      <td>24.4</td>\n",
              "      <td>Tidak</td>\n",
              "      <td>Ya</td>\n",
              "    </tr>\n",
              "    <tr>\n",
              "      <th>109092</th>\n",
              "      <td>11/11/2010</td>\n",
              "      <td>C17</td>\n",
              "      <td>7.5</td>\n",
              "      <td>20.4</td>\n",
              "      <td>1.6</td>\n",
              "      <td>4.8</td>\n",
              "      <td>8.4</td>\n",
              "      <td>NW</td>\n",
              "      <td>33</td>\n",
              "      <td>N</td>\n",
              "      <td>NW</td>\n",
              "      <td>4</td>\n",
              "      <td>13</td>\n",
              "      <td>92</td>\n",
              "      <td>51</td>\n",
              "      <td>1014.5</td>\n",
              "      <td>1010.6</td>\n",
              "      <td>5</td>\n",
              "      <td>5</td>\n",
              "      <td>12.6</td>\n",
              "      <td>19.8</td>\n",
              "      <td>Ya</td>\n",
              "      <td>Tidak</td>\n",
              "    </tr>\n",
              "    <tr>\n",
              "      <th>109093</th>\n",
              "      <td>16/04/2012</td>\n",
              "      <td>C11</td>\n",
              "      <td>10.8</td>\n",
              "      <td>29.8</td>\n",
              "      <td>0</td>\n",
              "      <td>7.8</td>\n",
              "      <td>11.2</td>\n",
              "      <td>E</td>\n",
              "      <td>48</td>\n",
              "      <td>ESE</td>\n",
              "      <td>SE</td>\n",
              "      <td>13</td>\n",
              "      <td>26</td>\n",
              "      <td>35</td>\n",
              "      <td>18</td>\n",
              "      <td>1020</td>\n",
              "      <td>1015.8</td>\n",
              "      <td>0</td>\n",
              "      <td>1</td>\n",
              "      <td>21.7</td>\n",
              "      <td>29.2</td>\n",
              "      <td>Tidak</td>\n",
              "      <td>Tidak</td>\n",
              "    </tr>\n",
              "    <tr>\n",
              "      <th>109094</th>\n",
              "      <td>09/10/2011</td>\n",
              "      <td>C16</td>\n",
              "      <td>12.3</td>\n",
              "      <td>27.4</td>\n",
              "      <td>9</td>\n",
              "      <td>4.8</td>\n",
              "      <td>8.4</td>\n",
              "      <td>WNW</td>\n",
              "      <td>35</td>\n",
              "      <td>NNE</td>\n",
              "      <td>NE</td>\n",
              "      <td>11</td>\n",
              "      <td>15</td>\n",
              "      <td>71</td>\n",
              "      <td>76</td>\n",
              "      <td>1010.4</td>\n",
              "      <td>1005.4</td>\n",
              "      <td>5</td>\n",
              "      <td>5</td>\n",
              "      <td>20.4</td>\n",
              "      <td>23.3</td>\n",
              "      <td>Ya</td>\n",
              "      <td>Tidak</td>\n",
              "    </tr>\n",
              "  </tbody>\n",
              "</table>\n",
              "<p>109095 rows × 23 columns</p>\n",
              "</div>"
            ],
            "text/plain": [
              "           Tanggal KodeLokasi SuhuMin  ... Suhu3pm BersaljuHariIni BersaljuBesok\n",
              "0       01/06/2014         C4    10.4  ...      15              Ya         Tidak\n",
              "1       15/07/2014        C10       9  ...    15.5              Ya            Ya\n",
              "2       16/02/2011        C46    18.2  ...    29.6           Tidak         Tidak\n",
              "3       08/08/2012        C36     7.3  ...    23.2           Tidak         Tidak\n",
              "4       29/10/2016         C7     5.9  ...    18.1           Tidak         Tidak\n",
              "...            ...        ...     ...  ...     ...             ...           ...\n",
              "109090  31/01/2009        C38    20.1  ...    22.1           Tidak            Ya\n",
              "109091  03/11/2010        C16    15.7  ...    24.4           Tidak            Ya\n",
              "109092  11/11/2010        C17     7.5  ...    19.8              Ya         Tidak\n",
              "109093  16/04/2012        C11    10.8  ...    29.2           Tidak         Tidak\n",
              "109094  09/10/2011        C16    12.3  ...    23.3              Ya         Tidak\n",
              "\n",
              "[109095 rows x 23 columns]"
            ]
          },
          "metadata": {
            "tags": []
          },
          "execution_count": 116
        }
      ]
    },
    {
      "cell_type": "markdown",
      "metadata": {
        "id": "ccXKUpOVsYUV"
      },
      "source": [
        "#3. Memisahkan dataset dengan target variabel"
      ]
    },
    {
      "cell_type": "code",
      "metadata": {
        "id": "OZAaLJmLsEzy"
      },
      "source": [
        "#meng-assign X untuk semua kolom kecuali 'BersaljuBesok' dan y untuk kolom 'BersaljuBesok'\n",
        "X = datatrain.drop(['BersaljuBesok'], axis=1)\n",
        "y = datatrain['BersaljuBesok']"
      ],
      "execution_count": 117,
      "outputs": []
    },
    {
      "cell_type": "markdown",
      "metadata": {
        "id": "nRZq8o9L1DZG"
      },
      "source": [
        "Setelah memisahkan variable independen dari variable dependen (y), selanjutnya adalah memsplit data menjadi X_train, X_test, y_train, dan y_test dengan test sizenya 0.3"
      ]
    },
    {
      "cell_type": "code",
      "metadata": {
        "colab": {
          "base_uri": "https://localhost:8080/"
        },
        "id": "lNGex4yyuCAR",
        "outputId": "d2b636b7-8aeb-4bbc-8a44-1c37a1cd44ec"
      },
      "source": [
        "#split data train dan data test\n",
        "X_train, X_test, y_train, y_test = train_test_split(X, y, test_size = 0.3)\n",
        "X_train.shape, X_test.shape"
      ],
      "execution_count": 118,
      "outputs": [
        {
          "output_type": "execute_result",
          "data": {
            "text/plain": [
              "((76366, 23), (32729, 23))"
            ]
          },
          "metadata": {
            "tags": []
          },
          "execution_count": 118
        }
      ]
    },
    {
      "cell_type": "markdown",
      "metadata": {
        "id": "65drmomO1VOq"
      },
      "source": [
        "Setelah membagi data, selanjutnya adalah meng-encode data kategorik menjadi tipe data yang sama supaya bisa dikomputasi."
      ]
    },
    {
      "cell_type": "code",
      "metadata": {
        "colab": {
          "base_uri": "https://localhost:8080/"
        },
        "id": "Zr4gUAOZ0pN1",
        "outputId": "0d074294-7cd0-48ac-c9b9-361f325efd0d"
      },
      "source": [
        "encoder = ce.OrdinalEncoder(cols=['Tanggal', 'KodeLokasi', 'SuhuMin', 'SuhuMax', 'Hujan',\n",
        "                                  'Penguapan', 'SinarMatahari', 'ArahAnginTerkencang',\n",
        "                                  'KecepatanAnginTerkencang', 'ArahAngin9am', 'ArahAngin3pm',\n",
        "                                  'KecepatanAngin9am', 'KecepatanAngin3pm', 'Kelembaban9am',\n",
        "                                  'Kelembaban3pm', 'Tekanan9am', 'Tekanan3pm', 'Awan9am', 'Awan3pm',\n",
        "                                  'Suhu9am', 'Suhu3pm', 'BersaljuHariIni'])\n",
        "\n",
        "#meng-assign hasil encoder kedalan X_train dan X_test\n",
        "X_train = encoder.fit_transform(X_train)\n",
        "X_test = encoder.transform(X_test)"
      ],
      "execution_count": 119,
      "outputs": [
        {
          "output_type": "stream",
          "text": [
            "/usr/local/lib/python3.7/dist-packages/category_encoders/utils.py:21: FutureWarning: is_categorical is deprecated and will be removed in a future version.  Use is_categorical_dtype instead\n",
            "  elif pd.api.types.is_categorical(cols):\n"
          ],
          "name": "stderr"
        }
      ]
    },
    {
      "cell_type": "code",
      "metadata": {
        "colab": {
          "base_uri": "https://localhost:8080/",
          "height": 222
        },
        "id": "ghPfGiDd2Nj0",
        "outputId": "89c42e46-4b13-4423-b242-9d21f3753799"
      },
      "source": [
        "X_train.head()"
      ],
      "execution_count": 120,
      "outputs": [
        {
          "output_type": "execute_result",
          "data": {
            "text/html": [
              "<div>\n",
              "<style scoped>\n",
              "    .dataframe tbody tr th:only-of-type {\n",
              "        vertical-align: middle;\n",
              "    }\n",
              "\n",
              "    .dataframe tbody tr th {\n",
              "        vertical-align: top;\n",
              "    }\n",
              "\n",
              "    .dataframe thead th {\n",
              "        text-align: right;\n",
              "    }\n",
              "</style>\n",
              "<table border=\"1\" class=\"dataframe\">\n",
              "  <thead>\n",
              "    <tr style=\"text-align: right;\">\n",
              "      <th></th>\n",
              "      <th>id</th>\n",
              "      <th>Tanggal</th>\n",
              "      <th>KodeLokasi</th>\n",
              "      <th>SuhuMin</th>\n",
              "      <th>SuhuMax</th>\n",
              "      <th>Hujan</th>\n",
              "      <th>Penguapan</th>\n",
              "      <th>SinarMatahari</th>\n",
              "      <th>ArahAnginTerkencang</th>\n",
              "      <th>KecepatanAnginTerkencang</th>\n",
              "      <th>ArahAngin9am</th>\n",
              "      <th>ArahAngin3pm</th>\n",
              "      <th>KecepatanAngin9am</th>\n",
              "      <th>KecepatanAngin3pm</th>\n",
              "      <th>Kelembaban9am</th>\n",
              "      <th>Kelembaban3pm</th>\n",
              "      <th>Tekanan9am</th>\n",
              "      <th>Tekanan3pm</th>\n",
              "      <th>Awan9am</th>\n",
              "      <th>Awan3pm</th>\n",
              "      <th>Suhu9am</th>\n",
              "      <th>Suhu3pm</th>\n",
              "      <th>BersaljuHariIni</th>\n",
              "    </tr>\n",
              "  </thead>\n",
              "  <tbody>\n",
              "    <tr>\n",
              "      <th>29108</th>\n",
              "      <td>29109</td>\n",
              "      <td>1</td>\n",
              "      <td>1</td>\n",
              "      <td>1</td>\n",
              "      <td>1</td>\n",
              "      <td>1</td>\n",
              "      <td>1</td>\n",
              "      <td>1</td>\n",
              "      <td>1</td>\n",
              "      <td>1</td>\n",
              "      <td>1</td>\n",
              "      <td>1</td>\n",
              "      <td>1</td>\n",
              "      <td>1</td>\n",
              "      <td>1</td>\n",
              "      <td>1</td>\n",
              "      <td>1</td>\n",
              "      <td>1</td>\n",
              "      <td>1</td>\n",
              "      <td>1</td>\n",
              "      <td>1</td>\n",
              "      <td>1</td>\n",
              "      <td>1</td>\n",
              "    </tr>\n",
              "    <tr>\n",
              "      <th>51190</th>\n",
              "      <td>51191</td>\n",
              "      <td>2</td>\n",
              "      <td>2</td>\n",
              "      <td>2</td>\n",
              "      <td>2</td>\n",
              "      <td>1</td>\n",
              "      <td>2</td>\n",
              "      <td>2</td>\n",
              "      <td>2</td>\n",
              "      <td>2</td>\n",
              "      <td>2</td>\n",
              "      <td>2</td>\n",
              "      <td>2</td>\n",
              "      <td>2</td>\n",
              "      <td>2</td>\n",
              "      <td>2</td>\n",
              "      <td>2</td>\n",
              "      <td>2</td>\n",
              "      <td>2</td>\n",
              "      <td>2</td>\n",
              "      <td>2</td>\n",
              "      <td>2</td>\n",
              "      <td>1</td>\n",
              "    </tr>\n",
              "    <tr>\n",
              "      <th>74144</th>\n",
              "      <td>74145</td>\n",
              "      <td>3</td>\n",
              "      <td>3</td>\n",
              "      <td>3</td>\n",
              "      <td>3</td>\n",
              "      <td>1</td>\n",
              "      <td>3</td>\n",
              "      <td>3</td>\n",
              "      <td>3</td>\n",
              "      <td>3</td>\n",
              "      <td>3</td>\n",
              "      <td>3</td>\n",
              "      <td>3</td>\n",
              "      <td>3</td>\n",
              "      <td>3</td>\n",
              "      <td>3</td>\n",
              "      <td>3</td>\n",
              "      <td>3</td>\n",
              "      <td>3</td>\n",
              "      <td>3</td>\n",
              "      <td>3</td>\n",
              "      <td>3</td>\n",
              "      <td>1</td>\n",
              "    </tr>\n",
              "    <tr>\n",
              "      <th>96571</th>\n",
              "      <td>96572</td>\n",
              "      <td>4</td>\n",
              "      <td>4</td>\n",
              "      <td>4</td>\n",
              "      <td>4</td>\n",
              "      <td>1</td>\n",
              "      <td>4</td>\n",
              "      <td>4</td>\n",
              "      <td>3</td>\n",
              "      <td>1</td>\n",
              "      <td>4</td>\n",
              "      <td>4</td>\n",
              "      <td>4</td>\n",
              "      <td>4</td>\n",
              "      <td>4</td>\n",
              "      <td>4</td>\n",
              "      <td>4</td>\n",
              "      <td>4</td>\n",
              "      <td>4</td>\n",
              "      <td>4</td>\n",
              "      <td>4</td>\n",
              "      <td>4</td>\n",
              "      <td>1</td>\n",
              "    </tr>\n",
              "    <tr>\n",
              "      <th>105617</th>\n",
              "      <td>105618</td>\n",
              "      <td>5</td>\n",
              "      <td>5</td>\n",
              "      <td>5</td>\n",
              "      <td>5</td>\n",
              "      <td>2</td>\n",
              "      <td>5</td>\n",
              "      <td>1</td>\n",
              "      <td>4</td>\n",
              "      <td>4</td>\n",
              "      <td>5</td>\n",
              "      <td>5</td>\n",
              "      <td>1</td>\n",
              "      <td>5</td>\n",
              "      <td>5</td>\n",
              "      <td>5</td>\n",
              "      <td>5</td>\n",
              "      <td>5</td>\n",
              "      <td>5</td>\n",
              "      <td>2</td>\n",
              "      <td>5</td>\n",
              "      <td>5</td>\n",
              "      <td>1</td>\n",
              "    </tr>\n",
              "  </tbody>\n",
              "</table>\n",
              "</div>"
            ],
            "text/plain": [
              "            id  Tanggal  KodeLokasi  ...  Suhu9am  Suhu3pm  BersaljuHariIni\n",
              "29108    29109        1           1  ...        1        1                1\n",
              "51190    51191        2           2  ...        2        2                1\n",
              "74144    74145        3           3  ...        3        3                1\n",
              "96571    96572        4           4  ...        4        4                1\n",
              "105617  105618        5           5  ...        5        5                1\n",
              "\n",
              "[5 rows x 23 columns]"
            ]
          },
          "metadata": {
            "tags": []
          },
          "execution_count": 120
        }
      ]
    },
    {
      "cell_type": "code",
      "metadata": {
        "colab": {
          "base_uri": "https://localhost:8080/",
          "height": 434
        },
        "id": "GZmcy9qY9KPm",
        "outputId": "bd6093b1-65ef-40bf-f549-67d6d3597080"
      },
      "source": [
        "X_train.drop(['id','Tanggal'], axis=1)"
      ],
      "execution_count": 121,
      "outputs": [
        {
          "output_type": "execute_result",
          "data": {
            "text/html": [
              "<div>\n",
              "<style scoped>\n",
              "    .dataframe tbody tr th:only-of-type {\n",
              "        vertical-align: middle;\n",
              "    }\n",
              "\n",
              "    .dataframe tbody tr th {\n",
              "        vertical-align: top;\n",
              "    }\n",
              "\n",
              "    .dataframe thead th {\n",
              "        text-align: right;\n",
              "    }\n",
              "</style>\n",
              "<table border=\"1\" class=\"dataframe\">\n",
              "  <thead>\n",
              "    <tr style=\"text-align: right;\">\n",
              "      <th></th>\n",
              "      <th>KodeLokasi</th>\n",
              "      <th>SuhuMin</th>\n",
              "      <th>SuhuMax</th>\n",
              "      <th>Hujan</th>\n",
              "      <th>Penguapan</th>\n",
              "      <th>SinarMatahari</th>\n",
              "      <th>ArahAnginTerkencang</th>\n",
              "      <th>KecepatanAnginTerkencang</th>\n",
              "      <th>ArahAngin9am</th>\n",
              "      <th>ArahAngin3pm</th>\n",
              "      <th>KecepatanAngin9am</th>\n",
              "      <th>KecepatanAngin3pm</th>\n",
              "      <th>Kelembaban9am</th>\n",
              "      <th>Kelembaban3pm</th>\n",
              "      <th>Tekanan9am</th>\n",
              "      <th>Tekanan3pm</th>\n",
              "      <th>Awan9am</th>\n",
              "      <th>Awan3pm</th>\n",
              "      <th>Suhu9am</th>\n",
              "      <th>Suhu3pm</th>\n",
              "      <th>BersaljuHariIni</th>\n",
              "    </tr>\n",
              "  </thead>\n",
              "  <tbody>\n",
              "    <tr>\n",
              "      <th>29108</th>\n",
              "      <td>1</td>\n",
              "      <td>1</td>\n",
              "      <td>1</td>\n",
              "      <td>1</td>\n",
              "      <td>1</td>\n",
              "      <td>1</td>\n",
              "      <td>1</td>\n",
              "      <td>1</td>\n",
              "      <td>1</td>\n",
              "      <td>1</td>\n",
              "      <td>1</td>\n",
              "      <td>1</td>\n",
              "      <td>1</td>\n",
              "      <td>1</td>\n",
              "      <td>1</td>\n",
              "      <td>1</td>\n",
              "      <td>1</td>\n",
              "      <td>1</td>\n",
              "      <td>1</td>\n",
              "      <td>1</td>\n",
              "      <td>1</td>\n",
              "    </tr>\n",
              "    <tr>\n",
              "      <th>51190</th>\n",
              "      <td>2</td>\n",
              "      <td>2</td>\n",
              "      <td>2</td>\n",
              "      <td>1</td>\n",
              "      <td>2</td>\n",
              "      <td>2</td>\n",
              "      <td>2</td>\n",
              "      <td>2</td>\n",
              "      <td>2</td>\n",
              "      <td>2</td>\n",
              "      <td>2</td>\n",
              "      <td>2</td>\n",
              "      <td>2</td>\n",
              "      <td>2</td>\n",
              "      <td>2</td>\n",
              "      <td>2</td>\n",
              "      <td>2</td>\n",
              "      <td>2</td>\n",
              "      <td>2</td>\n",
              "      <td>2</td>\n",
              "      <td>1</td>\n",
              "    </tr>\n",
              "    <tr>\n",
              "      <th>74144</th>\n",
              "      <td>3</td>\n",
              "      <td>3</td>\n",
              "      <td>3</td>\n",
              "      <td>1</td>\n",
              "      <td>3</td>\n",
              "      <td>3</td>\n",
              "      <td>3</td>\n",
              "      <td>3</td>\n",
              "      <td>3</td>\n",
              "      <td>3</td>\n",
              "      <td>3</td>\n",
              "      <td>3</td>\n",
              "      <td>3</td>\n",
              "      <td>3</td>\n",
              "      <td>3</td>\n",
              "      <td>3</td>\n",
              "      <td>3</td>\n",
              "      <td>3</td>\n",
              "      <td>3</td>\n",
              "      <td>3</td>\n",
              "      <td>1</td>\n",
              "    </tr>\n",
              "    <tr>\n",
              "      <th>96571</th>\n",
              "      <td>4</td>\n",
              "      <td>4</td>\n",
              "      <td>4</td>\n",
              "      <td>1</td>\n",
              "      <td>4</td>\n",
              "      <td>4</td>\n",
              "      <td>3</td>\n",
              "      <td>1</td>\n",
              "      <td>4</td>\n",
              "      <td>4</td>\n",
              "      <td>4</td>\n",
              "      <td>4</td>\n",
              "      <td>4</td>\n",
              "      <td>4</td>\n",
              "      <td>4</td>\n",
              "      <td>4</td>\n",
              "      <td>4</td>\n",
              "      <td>4</td>\n",
              "      <td>4</td>\n",
              "      <td>4</td>\n",
              "      <td>1</td>\n",
              "    </tr>\n",
              "    <tr>\n",
              "      <th>105617</th>\n",
              "      <td>5</td>\n",
              "      <td>5</td>\n",
              "      <td>5</td>\n",
              "      <td>2</td>\n",
              "      <td>5</td>\n",
              "      <td>1</td>\n",
              "      <td>4</td>\n",
              "      <td>4</td>\n",
              "      <td>5</td>\n",
              "      <td>5</td>\n",
              "      <td>1</td>\n",
              "      <td>5</td>\n",
              "      <td>5</td>\n",
              "      <td>5</td>\n",
              "      <td>5</td>\n",
              "      <td>5</td>\n",
              "      <td>5</td>\n",
              "      <td>2</td>\n",
              "      <td>5</td>\n",
              "      <td>5</td>\n",
              "      <td>1</td>\n",
              "    </tr>\n",
              "    <tr>\n",
              "      <th>...</th>\n",
              "      <td>...</td>\n",
              "      <td>...</td>\n",
              "      <td>...</td>\n",
              "      <td>...</td>\n",
              "      <td>...</td>\n",
              "      <td>...</td>\n",
              "      <td>...</td>\n",
              "      <td>...</td>\n",
              "      <td>...</td>\n",
              "      <td>...</td>\n",
              "      <td>...</td>\n",
              "      <td>...</td>\n",
              "      <td>...</td>\n",
              "      <td>...</td>\n",
              "      <td>...</td>\n",
              "      <td>...</td>\n",
              "      <td>...</td>\n",
              "      <td>...</td>\n",
              "      <td>...</td>\n",
              "      <td>...</td>\n",
              "      <td>...</td>\n",
              "    </tr>\n",
              "    <tr>\n",
              "      <th>44411</th>\n",
              "      <td>37</td>\n",
              "      <td>205</td>\n",
              "      <td>71</td>\n",
              "      <td>11</td>\n",
              "      <td>39</td>\n",
              "      <td>32</td>\n",
              "      <td>8</td>\n",
              "      <td>5</td>\n",
              "      <td>14</td>\n",
              "      <td>9</td>\n",
              "      <td>4</td>\n",
              "      <td>12</td>\n",
              "      <td>60</td>\n",
              "      <td>41</td>\n",
              "      <td>353</td>\n",
              "      <td>307</td>\n",
              "      <td>6</td>\n",
              "      <td>1</td>\n",
              "      <td>46</td>\n",
              "      <td>44</td>\n",
              "      <td>2</td>\n",
              "    </tr>\n",
              "    <tr>\n",
              "      <th>93635</th>\n",
              "      <td>42</td>\n",
              "      <td>233</td>\n",
              "      <td>200</td>\n",
              "      <td>1</td>\n",
              "      <td>9</td>\n",
              "      <td>1</td>\n",
              "      <td>4</td>\n",
              "      <td>8</td>\n",
              "      <td>10</td>\n",
              "      <td>10</td>\n",
              "      <td>1</td>\n",
              "      <td>6</td>\n",
              "      <td>20</td>\n",
              "      <td>6</td>\n",
              "      <td>41</td>\n",
              "      <td>76</td>\n",
              "      <td>6</td>\n",
              "      <td>1</td>\n",
              "      <td>237</td>\n",
              "      <td>367</td>\n",
              "      <td>1</td>\n",
              "    </tr>\n",
              "    <tr>\n",
              "      <th>47577</th>\n",
              "      <td>35</td>\n",
              "      <td>151</td>\n",
              "      <td>393</td>\n",
              "      <td>1</td>\n",
              "      <td>9</td>\n",
              "      <td>1</td>\n",
              "      <td>11</td>\n",
              "      <td>4</td>\n",
              "      <td>8</td>\n",
              "      <td>10</td>\n",
              "      <td>16</td>\n",
              "      <td>11</td>\n",
              "      <td>28</td>\n",
              "      <td>72</td>\n",
              "      <td>17</td>\n",
              "      <td>18</td>\n",
              "      <td>6</td>\n",
              "      <td>1</td>\n",
              "      <td>365</td>\n",
              "      <td>394</td>\n",
              "      <td>1</td>\n",
              "    </tr>\n",
              "    <tr>\n",
              "      <th>14076</th>\n",
              "      <td>47</td>\n",
              "      <td>18</td>\n",
              "      <td>118</td>\n",
              "      <td>1</td>\n",
              "      <td>9</td>\n",
              "      <td>1</td>\n",
              "      <td>1</td>\n",
              "      <td>12</td>\n",
              "      <td>11</td>\n",
              "      <td>6</td>\n",
              "      <td>10</td>\n",
              "      <td>3</td>\n",
              "      <td>6</td>\n",
              "      <td>70</td>\n",
              "      <td>103</td>\n",
              "      <td>31</td>\n",
              "      <td>6</td>\n",
              "      <td>9</td>\n",
              "      <td>156</td>\n",
              "      <td>180</td>\n",
              "      <td>1</td>\n",
              "    </tr>\n",
              "    <tr>\n",
              "      <th>28315</th>\n",
              "      <td>23</td>\n",
              "      <td>56</td>\n",
              "      <td>151</td>\n",
              "      <td>12</td>\n",
              "      <td>9</td>\n",
              "      <td>1</td>\n",
              "      <td>1</td>\n",
              "      <td>1</td>\n",
              "      <td>3</td>\n",
              "      <td>10</td>\n",
              "      <td>9</td>\n",
              "      <td>15</td>\n",
              "      <td>51</td>\n",
              "      <td>91</td>\n",
              "      <td>17</td>\n",
              "      <td>18</td>\n",
              "      <td>6</td>\n",
              "      <td>1</td>\n",
              "      <td>124</td>\n",
              "      <td>56</td>\n",
              "      <td>1</td>\n",
              "    </tr>\n",
              "  </tbody>\n",
              "</table>\n",
              "<p>76366 rows × 21 columns</p>\n",
              "</div>"
            ],
            "text/plain": [
              "        KodeLokasi  SuhuMin  SuhuMax  ...  Suhu9am  Suhu3pm  BersaljuHariIni\n",
              "29108            1        1        1  ...        1        1                1\n",
              "51190            2        2        2  ...        2        2                1\n",
              "74144            3        3        3  ...        3        3                1\n",
              "96571            4        4        4  ...        4        4                1\n",
              "105617           5        5        5  ...        5        5                1\n",
              "...            ...      ...      ...  ...      ...      ...              ...\n",
              "44411           37      205       71  ...       46       44                2\n",
              "93635           42      233      200  ...      237      367                1\n",
              "47577           35      151      393  ...      365      394                1\n",
              "14076           47       18      118  ...      156      180                1\n",
              "28315           23       56      151  ...      124       56                1\n",
              "\n",
              "[76366 rows x 21 columns]"
            ]
          },
          "metadata": {
            "tags": []
          },
          "execution_count": 121
        }
      ]
    },
    {
      "cell_type": "code",
      "metadata": {
        "colab": {
          "base_uri": "https://localhost:8080/",
          "height": 222
        },
        "id": "yhoiNlsP2QVs",
        "outputId": "8d9c0823-b9e7-4b04-aa08-9fe44c5dd2c8"
      },
      "source": [
        "X_test.head()"
      ],
      "execution_count": 122,
      "outputs": [
        {
          "output_type": "execute_result",
          "data": {
            "text/html": [
              "<div>\n",
              "<style scoped>\n",
              "    .dataframe tbody tr th:only-of-type {\n",
              "        vertical-align: middle;\n",
              "    }\n",
              "\n",
              "    .dataframe tbody tr th {\n",
              "        vertical-align: top;\n",
              "    }\n",
              "\n",
              "    .dataframe thead th {\n",
              "        text-align: right;\n",
              "    }\n",
              "</style>\n",
              "<table border=\"1\" class=\"dataframe\">\n",
              "  <thead>\n",
              "    <tr style=\"text-align: right;\">\n",
              "      <th></th>\n",
              "      <th>id</th>\n",
              "      <th>Tanggal</th>\n",
              "      <th>KodeLokasi</th>\n",
              "      <th>SuhuMin</th>\n",
              "      <th>SuhuMax</th>\n",
              "      <th>Hujan</th>\n",
              "      <th>Penguapan</th>\n",
              "      <th>SinarMatahari</th>\n",
              "      <th>ArahAnginTerkencang</th>\n",
              "      <th>KecepatanAnginTerkencang</th>\n",
              "      <th>ArahAngin9am</th>\n",
              "      <th>ArahAngin3pm</th>\n",
              "      <th>KecepatanAngin9am</th>\n",
              "      <th>KecepatanAngin3pm</th>\n",
              "      <th>Kelembaban9am</th>\n",
              "      <th>Kelembaban3pm</th>\n",
              "      <th>Tekanan9am</th>\n",
              "      <th>Tekanan3pm</th>\n",
              "      <th>Awan9am</th>\n",
              "      <th>Awan3pm</th>\n",
              "      <th>Suhu9am</th>\n",
              "      <th>Suhu3pm</th>\n",
              "      <th>BersaljuHariIni</th>\n",
              "    </tr>\n",
              "  </thead>\n",
              "  <tbody>\n",
              "    <tr>\n",
              "      <th>60966</th>\n",
              "      <td>60967</td>\n",
              "      <td>2087.0</td>\n",
              "      <td>38</td>\n",
              "      <td>126.0</td>\n",
              "      <td>175.0</td>\n",
              "      <td>1.0</td>\n",
              "      <td>34.0</td>\n",
              "      <td>2</td>\n",
              "      <td>5</td>\n",
              "      <td>21.0</td>\n",
              "      <td>3</td>\n",
              "      <td>10</td>\n",
              "      <td>9.0</td>\n",
              "      <td>5.0</td>\n",
              "      <td>46</td>\n",
              "      <td>46</td>\n",
              "      <td>62.0</td>\n",
              "      <td>87.0</td>\n",
              "      <td>8</td>\n",
              "      <td>4</td>\n",
              "      <td>80.0</td>\n",
              "      <td>85.0</td>\n",
              "      <td>1</td>\n",
              "    </tr>\n",
              "    <tr>\n",
              "      <th>32794</th>\n",
              "      <td>32795</td>\n",
              "      <td>2114.0</td>\n",
              "      <td>37</td>\n",
              "      <td>123.0</td>\n",
              "      <td>130.0</td>\n",
              "      <td>1.0</td>\n",
              "      <td>29.0</td>\n",
              "      <td>105</td>\n",
              "      <td>8</td>\n",
              "      <td>1.0</td>\n",
              "      <td>9</td>\n",
              "      <td>6</td>\n",
              "      <td>17.0</td>\n",
              "      <td>12.0</td>\n",
              "      <td>37</td>\n",
              "      <td>22</td>\n",
              "      <td>82.0</td>\n",
              "      <td>146.0</td>\n",
              "      <td>4</td>\n",
              "      <td>3</td>\n",
              "      <td>85.0</td>\n",
              "      <td>17.0</td>\n",
              "      <td>1</td>\n",
              "    </tr>\n",
              "    <tr>\n",
              "      <th>97705</th>\n",
              "      <td>97706</td>\n",
              "      <td>1714.0</td>\n",
              "      <td>38</td>\n",
              "      <td>97.0</td>\n",
              "      <td>150.0</td>\n",
              "      <td>2.0</td>\n",
              "      <td>9.0</td>\n",
              "      <td>28</td>\n",
              "      <td>14</td>\n",
              "      <td>2.0</td>\n",
              "      <td>6</td>\n",
              "      <td>5</td>\n",
              "      <td>5.0</td>\n",
              "      <td>20.0</td>\n",
              "      <td>59</td>\n",
              "      <td>11</td>\n",
              "      <td>211.0</td>\n",
              "      <td>89.0</td>\n",
              "      <td>2</td>\n",
              "      <td>1</td>\n",
              "      <td>97.0</td>\n",
              "      <td>193.0</td>\n",
              "      <td>1</td>\n",
              "    </tr>\n",
              "    <tr>\n",
              "      <th>75502</th>\n",
              "      <td>75503</td>\n",
              "      <td>1351.0</td>\n",
              "      <td>8</td>\n",
              "      <td>133.0</td>\n",
              "      <td>39.0</td>\n",
              "      <td>1.0</td>\n",
              "      <td>61.0</td>\n",
              "      <td>12</td>\n",
              "      <td>7</td>\n",
              "      <td>2.0</td>\n",
              "      <td>5</td>\n",
              "      <td>9</td>\n",
              "      <td>13.0</td>\n",
              "      <td>7.0</td>\n",
              "      <td>48</td>\n",
              "      <td>7</td>\n",
              "      <td>186.0</td>\n",
              "      <td>196.0</td>\n",
              "      <td>6</td>\n",
              "      <td>1</td>\n",
              "      <td>170.0</td>\n",
              "      <td>9.0</td>\n",
              "      <td>1</td>\n",
              "    </tr>\n",
              "    <tr>\n",
              "      <th>54739</th>\n",
              "      <td>54740</td>\n",
              "      <td>1718.0</td>\n",
              "      <td>46</td>\n",
              "      <td>192.0</td>\n",
              "      <td>101.0</td>\n",
              "      <td>9.0</td>\n",
              "      <td>9.0</td>\n",
              "      <td>1</td>\n",
              "      <td>15</td>\n",
              "      <td>14.0</td>\n",
              "      <td>8</td>\n",
              "      <td>10</td>\n",
              "      <td>17.0</td>\n",
              "      <td>20.0</td>\n",
              "      <td>7</td>\n",
              "      <td>8</td>\n",
              "      <td>31.0</td>\n",
              "      <td>6.0</td>\n",
              "      <td>6</td>\n",
              "      <td>1</td>\n",
              "      <td>205.0</td>\n",
              "      <td>44.0</td>\n",
              "      <td>2</td>\n",
              "    </tr>\n",
              "  </tbody>\n",
              "</table>\n",
              "</div>"
            ],
            "text/plain": [
              "          id  Tanggal  KodeLokasi  ...  Suhu9am  Suhu3pm  BersaljuHariIni\n",
              "60966  60967   2087.0          38  ...     80.0     85.0                1\n",
              "32794  32795   2114.0          37  ...     85.0     17.0                1\n",
              "97705  97706   1714.0          38  ...     97.0    193.0                1\n",
              "75502  75503   1351.0           8  ...    170.0      9.0                1\n",
              "54739  54740   1718.0          46  ...    205.0     44.0                2\n",
              "\n",
              "[5 rows x 23 columns]"
            ]
          },
          "metadata": {
            "tags": []
          },
          "execution_count": 122
        }
      ]
    },
    {
      "cell_type": "code",
      "metadata": {
        "colab": {
          "base_uri": "https://localhost:8080/",
          "height": 434
        },
        "id": "FueLbi-Q9Uez",
        "outputId": "54b69189-80ff-4983-fe37-6dd52b5c12a7"
      },
      "source": [
        "X_test.drop(['id','Tanggal'], axis=1)"
      ],
      "execution_count": 123,
      "outputs": [
        {
          "output_type": "execute_result",
          "data": {
            "text/html": [
              "<div>\n",
              "<style scoped>\n",
              "    .dataframe tbody tr th:only-of-type {\n",
              "        vertical-align: middle;\n",
              "    }\n",
              "\n",
              "    .dataframe tbody tr th {\n",
              "        vertical-align: top;\n",
              "    }\n",
              "\n",
              "    .dataframe thead th {\n",
              "        text-align: right;\n",
              "    }\n",
              "</style>\n",
              "<table border=\"1\" class=\"dataframe\">\n",
              "  <thead>\n",
              "    <tr style=\"text-align: right;\">\n",
              "      <th></th>\n",
              "      <th>KodeLokasi</th>\n",
              "      <th>SuhuMin</th>\n",
              "      <th>SuhuMax</th>\n",
              "      <th>Hujan</th>\n",
              "      <th>Penguapan</th>\n",
              "      <th>SinarMatahari</th>\n",
              "      <th>ArahAnginTerkencang</th>\n",
              "      <th>KecepatanAnginTerkencang</th>\n",
              "      <th>ArahAngin9am</th>\n",
              "      <th>ArahAngin3pm</th>\n",
              "      <th>KecepatanAngin9am</th>\n",
              "      <th>KecepatanAngin3pm</th>\n",
              "      <th>Kelembaban9am</th>\n",
              "      <th>Kelembaban3pm</th>\n",
              "      <th>Tekanan9am</th>\n",
              "      <th>Tekanan3pm</th>\n",
              "      <th>Awan9am</th>\n",
              "      <th>Awan3pm</th>\n",
              "      <th>Suhu9am</th>\n",
              "      <th>Suhu3pm</th>\n",
              "      <th>BersaljuHariIni</th>\n",
              "    </tr>\n",
              "  </thead>\n",
              "  <tbody>\n",
              "    <tr>\n",
              "      <th>60966</th>\n",
              "      <td>38</td>\n",
              "      <td>126.0</td>\n",
              "      <td>175.0</td>\n",
              "      <td>1.0</td>\n",
              "      <td>34.0</td>\n",
              "      <td>2</td>\n",
              "      <td>5</td>\n",
              "      <td>21.0</td>\n",
              "      <td>3</td>\n",
              "      <td>10</td>\n",
              "      <td>9.0</td>\n",
              "      <td>5.0</td>\n",
              "      <td>46</td>\n",
              "      <td>46</td>\n",
              "      <td>62.0</td>\n",
              "      <td>87.0</td>\n",
              "      <td>8</td>\n",
              "      <td>4</td>\n",
              "      <td>80.0</td>\n",
              "      <td>85.0</td>\n",
              "      <td>1</td>\n",
              "    </tr>\n",
              "    <tr>\n",
              "      <th>32794</th>\n",
              "      <td>37</td>\n",
              "      <td>123.0</td>\n",
              "      <td>130.0</td>\n",
              "      <td>1.0</td>\n",
              "      <td>29.0</td>\n",
              "      <td>105</td>\n",
              "      <td>8</td>\n",
              "      <td>1.0</td>\n",
              "      <td>9</td>\n",
              "      <td>6</td>\n",
              "      <td>17.0</td>\n",
              "      <td>12.0</td>\n",
              "      <td>37</td>\n",
              "      <td>22</td>\n",
              "      <td>82.0</td>\n",
              "      <td>146.0</td>\n",
              "      <td>4</td>\n",
              "      <td>3</td>\n",
              "      <td>85.0</td>\n",
              "      <td>17.0</td>\n",
              "      <td>1</td>\n",
              "    </tr>\n",
              "    <tr>\n",
              "      <th>97705</th>\n",
              "      <td>38</td>\n",
              "      <td>97.0</td>\n",
              "      <td>150.0</td>\n",
              "      <td>2.0</td>\n",
              "      <td>9.0</td>\n",
              "      <td>28</td>\n",
              "      <td>14</td>\n",
              "      <td>2.0</td>\n",
              "      <td>6</td>\n",
              "      <td>5</td>\n",
              "      <td>5.0</td>\n",
              "      <td>20.0</td>\n",
              "      <td>59</td>\n",
              "      <td>11</td>\n",
              "      <td>211.0</td>\n",
              "      <td>89.0</td>\n",
              "      <td>2</td>\n",
              "      <td>1</td>\n",
              "      <td>97.0</td>\n",
              "      <td>193.0</td>\n",
              "      <td>1</td>\n",
              "    </tr>\n",
              "    <tr>\n",
              "      <th>75502</th>\n",
              "      <td>8</td>\n",
              "      <td>133.0</td>\n",
              "      <td>39.0</td>\n",
              "      <td>1.0</td>\n",
              "      <td>61.0</td>\n",
              "      <td>12</td>\n",
              "      <td>7</td>\n",
              "      <td>2.0</td>\n",
              "      <td>5</td>\n",
              "      <td>9</td>\n",
              "      <td>13.0</td>\n",
              "      <td>7.0</td>\n",
              "      <td>48</td>\n",
              "      <td>7</td>\n",
              "      <td>186.0</td>\n",
              "      <td>196.0</td>\n",
              "      <td>6</td>\n",
              "      <td>1</td>\n",
              "      <td>170.0</td>\n",
              "      <td>9.0</td>\n",
              "      <td>1</td>\n",
              "    </tr>\n",
              "    <tr>\n",
              "      <th>54739</th>\n",
              "      <td>46</td>\n",
              "      <td>192.0</td>\n",
              "      <td>101.0</td>\n",
              "      <td>9.0</td>\n",
              "      <td>9.0</td>\n",
              "      <td>1</td>\n",
              "      <td>15</td>\n",
              "      <td>14.0</td>\n",
              "      <td>8</td>\n",
              "      <td>10</td>\n",
              "      <td>17.0</td>\n",
              "      <td>20.0</td>\n",
              "      <td>7</td>\n",
              "      <td>8</td>\n",
              "      <td>31.0</td>\n",
              "      <td>6.0</td>\n",
              "      <td>6</td>\n",
              "      <td>1</td>\n",
              "      <td>205.0</td>\n",
              "      <td>44.0</td>\n",
              "      <td>2</td>\n",
              "    </tr>\n",
              "    <tr>\n",
              "      <th>...</th>\n",
              "      <td>...</td>\n",
              "      <td>...</td>\n",
              "      <td>...</td>\n",
              "      <td>...</td>\n",
              "      <td>...</td>\n",
              "      <td>...</td>\n",
              "      <td>...</td>\n",
              "      <td>...</td>\n",
              "      <td>...</td>\n",
              "      <td>...</td>\n",
              "      <td>...</td>\n",
              "      <td>...</td>\n",
              "      <td>...</td>\n",
              "      <td>...</td>\n",
              "      <td>...</td>\n",
              "      <td>...</td>\n",
              "      <td>...</td>\n",
              "      <td>...</td>\n",
              "      <td>...</td>\n",
              "      <td>...</td>\n",
              "      <td>...</td>\n",
              "    </tr>\n",
              "    <tr>\n",
              "      <th>89971</th>\n",
              "      <td>9</td>\n",
              "      <td>82.0</td>\n",
              "      <td>36.0</td>\n",
              "      <td>71.0</td>\n",
              "      <td>33.0</td>\n",
              "      <td>93</td>\n",
              "      <td>4</td>\n",
              "      <td>9.0</td>\n",
              "      <td>5</td>\n",
              "      <td>2</td>\n",
              "      <td>7.0</td>\n",
              "      <td>14.0</td>\n",
              "      <td>12</td>\n",
              "      <td>21</td>\n",
              "      <td>123.0</td>\n",
              "      <td>148.0</td>\n",
              "      <td>4</td>\n",
              "      <td>8</td>\n",
              "      <td>68.0</td>\n",
              "      <td>79.0</td>\n",
              "      <td>2</td>\n",
              "    </tr>\n",
              "    <tr>\n",
              "      <th>98151</th>\n",
              "      <td>42</td>\n",
              "      <td>145.0</td>\n",
              "      <td>166.0</td>\n",
              "      <td>1.0</td>\n",
              "      <td>29.0</td>\n",
              "      <td>6</td>\n",
              "      <td>6</td>\n",
              "      <td>21.0</td>\n",
              "      <td>5</td>\n",
              "      <td>6</td>\n",
              "      <td>5.0</td>\n",
              "      <td>11.0</td>\n",
              "      <td>14</td>\n",
              "      <td>41</td>\n",
              "      <td>160.0</td>\n",
              "      <td>98.0</td>\n",
              "      <td>8</td>\n",
              "      <td>9</td>\n",
              "      <td>124.0</td>\n",
              "      <td>78.0</td>\n",
              "      <td>1</td>\n",
              "    </tr>\n",
              "    <tr>\n",
              "      <th>14051</th>\n",
              "      <td>38</td>\n",
              "      <td>236.0</td>\n",
              "      <td>68.0</td>\n",
              "      <td>1.0</td>\n",
              "      <td>40.0</td>\n",
              "      <td>59</td>\n",
              "      <td>13</td>\n",
              "      <td>28.0</td>\n",
              "      <td>7</td>\n",
              "      <td>11</td>\n",
              "      <td>21.0</td>\n",
              "      <td>19.0</td>\n",
              "      <td>14</td>\n",
              "      <td>47</td>\n",
              "      <td>135.0</td>\n",
              "      <td>315.0</td>\n",
              "      <td>4</td>\n",
              "      <td>9</td>\n",
              "      <td>104.0</td>\n",
              "      <td>98.0</td>\n",
              "      <td>1</td>\n",
              "    </tr>\n",
              "    <tr>\n",
              "      <th>86845</th>\n",
              "      <td>30</td>\n",
              "      <td>211.0</td>\n",
              "      <td>183.0</td>\n",
              "      <td>1.0</td>\n",
              "      <td>23.0</td>\n",
              "      <td>111</td>\n",
              "      <td>14</td>\n",
              "      <td>8.0</td>\n",
              "      <td>16</td>\n",
              "      <td>13</td>\n",
              "      <td>2.0</td>\n",
              "      <td>3.0</td>\n",
              "      <td>51</td>\n",
              "      <td>74</td>\n",
              "      <td>78.0</td>\n",
              "      <td>148.0</td>\n",
              "      <td>9</td>\n",
              "      <td>3</td>\n",
              "      <td>43.0</td>\n",
              "      <td>72.0</td>\n",
              "      <td>1</td>\n",
              "    </tr>\n",
              "    <tr>\n",
              "      <th>9206</th>\n",
              "      <td>19</td>\n",
              "      <td>9.0</td>\n",
              "      <td>137.0</td>\n",
              "      <td>9.0</td>\n",
              "      <td>9.0</td>\n",
              "      <td>1</td>\n",
              "      <td>11</td>\n",
              "      <td>11.0</td>\n",
              "      <td>8</td>\n",
              "      <td>10</td>\n",
              "      <td>12.0</td>\n",
              "      <td>5.0</td>\n",
              "      <td>35</td>\n",
              "      <td>57</td>\n",
              "      <td>101.0</td>\n",
              "      <td>114.0</td>\n",
              "      <td>5</td>\n",
              "      <td>8</td>\n",
              "      <td>77.0</td>\n",
              "      <td>228.0</td>\n",
              "      <td>2</td>\n",
              "    </tr>\n",
              "  </tbody>\n",
              "</table>\n",
              "<p>32729 rows × 21 columns</p>\n",
              "</div>"
            ],
            "text/plain": [
              "       KodeLokasi  SuhuMin  SuhuMax  ...  Suhu9am  Suhu3pm  BersaljuHariIni\n",
              "60966          38    126.0    175.0  ...     80.0     85.0                1\n",
              "32794          37    123.0    130.0  ...     85.0     17.0                1\n",
              "97705          38     97.0    150.0  ...     97.0    193.0                1\n",
              "75502           8    133.0     39.0  ...    170.0      9.0                1\n",
              "54739          46    192.0    101.0  ...    205.0     44.0                2\n",
              "...           ...      ...      ...  ...      ...      ...              ...\n",
              "89971           9     82.0     36.0  ...     68.0     79.0                2\n",
              "98151          42    145.0    166.0  ...    124.0     78.0                1\n",
              "14051          38    236.0     68.0  ...    104.0     98.0                1\n",
              "86845          30    211.0    183.0  ...     43.0     72.0                1\n",
              "9206           19      9.0    137.0  ...     77.0    228.0                2\n",
              "\n",
              "[32729 rows x 21 columns]"
            ]
          },
          "metadata": {
            "tags": []
          },
          "execution_count": 123
        }
      ]
    },
    {
      "cell_type": "markdown",
      "metadata": {
        "id": "9LR54cqX2YAk"
      },
      "source": [
        "#4. KNN"
      ]
    },
    {
      "cell_type": "code",
      "metadata": {
        "colab": {
          "base_uri": "https://localhost:8080/"
        },
        "id": "dwxZeVWf4stV",
        "outputId": "e3c49a2b-4f83-4ba2-dd52-d422b9e15339"
      },
      "source": [
        "#KNN Classifier\n",
        "from sklearn.neighbors import KNeighborsClassifier\n",
        "from sklearn import model_selection\n",
        "\n",
        "#memasuki class ke dalam data\n",
        "classifier = KNeighborsClassifier(n_neighbors=5, metric = 'minkowski', p=2)\n",
        "classifier.fit(X_train, y_train)\n"
      ],
      "execution_count": 124,
      "outputs": [
        {
          "output_type": "execute_result",
          "data": {
            "text/plain": [
              "KNeighborsClassifier(algorithm='auto', leaf_size=30, metric='minkowski',\n",
              "                     metric_params=None, n_jobs=None, n_neighbors=5, p=2,\n",
              "                     weights='uniform')"
            ]
          },
          "metadata": {
            "tags": []
          },
          "execution_count": 124
        }
      ]
    },
    {
      "cell_type": "code",
      "metadata": {
        "id": "EkYI5TtQ_qUG"
      },
      "source": [
        "#membuat variabel y prediksi\n",
        "y_pred_knn = classifier.predict(X_test)"
      ],
      "execution_count": 125,
      "outputs": []
    },
    {
      "cell_type": "code",
      "metadata": {
        "colab": {
          "base_uri": "https://localhost:8080/"
        },
        "id": "QFpBPlwSE5Tf",
        "outputId": "5e2a10fb-3989-454a-984e-ba90b18d9744"
      },
      "source": [
        "#membuat confusion matrix dan Precision, Recall, F1-Score, Support\n",
        "\n",
        "print(\"----Confusion Matrix-----\")\n",
        "print(confusion_matrix(y_test, y_pred_knn))\n",
        "print(\"\")\n",
        "print(\"----Precision, Recall, F1-Score, Support-----\")\n",
        "print(classification_report(y_test, y_pred_knn))"
      ],
      "execution_count": 126,
      "outputs": [
        {
          "output_type": "stream",
          "text": [
            "----Confusion Matrix-----\n",
            "[[24070  1476]\n",
            " [ 6706   477]]\n",
            "\n",
            "----Precision, Recall, F1-Score, Support-----\n",
            "              precision    recall  f1-score   support\n",
            "\n",
            "       Tidak       0.78      0.94      0.85     25546\n",
            "          Ya       0.24      0.07      0.10      7183\n",
            "\n",
            "    accuracy                           0.75     32729\n",
            "   macro avg       0.51      0.50      0.48     32729\n",
            "weighted avg       0.66      0.75      0.69     32729\n",
            "\n"
          ],
          "name": "stdout"
        }
      ]
    },
    {
      "cell_type": "code",
      "metadata": {
        "colab": {
          "base_uri": "https://localhost:8080/"
        },
        "id": "oDY-lisfFKz-",
        "outputId": "2c60523f-4a81-4949-de84-15dd9dd096b4"
      },
      "source": [
        "#menghitung akurasi model knn\n",
        "from sklearn.metrics import accuracy_score\n",
        "print('Akurasi Model: {0:0.4f}'. format(accuracy_score(y_test, y_pred_knn)*100), \"%\")"
      ],
      "execution_count": 127,
      "outputs": [
        {
          "output_type": "stream",
          "text": [
            "Akurasi Model: 75.0008 %\n"
          ],
          "name": "stdout"
        }
      ]
    },
    {
      "cell_type": "code",
      "metadata": {
        "colab": {
          "base_uri": "https://localhost:8080/"
        },
        "id": "OvEX6cnuFk8L",
        "outputId": "8414cbb0-447e-4a39-ac5e-bf03a87e626e"
      },
      "source": [
        "y_pred_train_knn = classifier.predict(X_train)\n",
        "\n",
        "#akurasi training set\n",
        "print('Akurasi Traing set: {0:0.4f}'. format(accuracy_score(y_train, y_pred_train_knn)*100), \"%\")"
      ],
      "execution_count": 128,
      "outputs": [
        {
          "output_type": "stream",
          "text": [
            "Akurasi Traing set: 80.3931 %\n"
          ],
          "name": "stdout"
        }
      ]
    },
    {
      "cell_type": "markdown",
      "metadata": {
        "id": "7iSRVPrIHJ_L"
      },
      "source": [
        "Hasil yang dapat diperoleh dari model KNN tersebut adalah akurasi model KNN dengan 75.1% dan akurasi training set dengan 80.4%. Meski hasil ini masih tinggi, namun masih kurang memuaskan. Alasan mengapa hasil-hasil tersebut tidak melampaui 80% karena KNN tidak bekerja dengan kinerja yang tinggi. "
      ]
    },
    {
      "cell_type": "markdown",
      "metadata": {
        "id": "KGZ-MnbvIuhv"
      },
      "source": [
        "Untuk menutupi kekurangan dari algoritma KNN, model selanjutnya yang akan dianalisis dan dibanding adalah algoritma Random Forest dan Decision Tree."
      ]
    },
    {
      "cell_type": "markdown",
      "metadata": {
        "id": "0_xF2SzTJBZb"
      },
      "source": [
        "#5. Random Forest"
      ]
    },
    {
      "cell_type": "code",
      "metadata": {
        "colab": {
          "base_uri": "https://localhost:8080/"
        },
        "id": "6AWjL90nGfF9",
        "outputId": "d461664b-f0ef-4426-9ed0-810d973c3d85"
      },
      "source": [
        "from sklearn.ensemble import RandomForestClassifier\n",
        "\n",
        "forest = RandomForestClassifier(n_estimators=100, criterion='entropy', random_state=0)\n",
        "forest.fit(X_train, y_train)"
      ],
      "execution_count": 129,
      "outputs": [
        {
          "output_type": "execute_result",
          "data": {
            "text/plain": [
              "RandomForestClassifier(bootstrap=True, ccp_alpha=0.0, class_weight=None,\n",
              "                       criterion='entropy', max_depth=None, max_features='auto',\n",
              "                       max_leaf_nodes=None, max_samples=None,\n",
              "                       min_impurity_decrease=0.0, min_impurity_split=None,\n",
              "                       min_samples_leaf=1, min_samples_split=2,\n",
              "                       min_weight_fraction_leaf=0.0, n_estimators=100,\n",
              "                       n_jobs=None, oob_score=False, random_state=0, verbose=0,\n",
              "                       warm_start=False)"
            ]
          },
          "metadata": {
            "tags": []
          },
          "execution_count": 129
        }
      ]
    },
    {
      "cell_type": "code",
      "metadata": {
        "id": "T9Aedo1oKZk2"
      },
      "source": [
        "y_pred_rf = forest.predict(X_test)"
      ],
      "execution_count": 130,
      "outputs": []
    },
    {
      "cell_type": "code",
      "metadata": {
        "id": "WBaBBtddLERm"
      },
      "source": [
        "y_pred_train_rf = forest.predict(X_train)"
      ],
      "execution_count": 131,
      "outputs": []
    },
    {
      "cell_type": "code",
      "metadata": {
        "colab": {
          "base_uri": "https://localhost:8080/"
        },
        "id": "24ijHYVvK5T3",
        "outputId": "437c8b1a-acee-444d-e513-46db78c9ad25"
      },
      "source": [
        "print('Akurasi Model: {0:0.4f}'. format(accuracy_score(y_test, y_pred_rf)*100), \"%\")\n",
        "print('Akurasi Traing set: {0:0.4f}'. format(accuracy_score(y_train, y_pred_train_rf)*100), \"%\")"
      ],
      "execution_count": 132,
      "outputs": [
        {
          "output_type": "stream",
          "text": [
            "Akurasi Model: 81.9060 %\n",
            "Akurasi Traing set: 99.9987 %\n"
          ],
          "name": "stdout"
        }
      ]
    },
    {
      "cell_type": "markdown",
      "metadata": {
        "id": "KnCpV-lFPDW_"
      },
      "source": [
        "Hasil yang diperoleh dari algoritma Random Forest adalah akurasi model dengan 82.1% dan akurasi training set dengan 99.9%."
      ]
    },
    {
      "cell_type": "markdown",
      "metadata": {
        "id": "is84MU_8PPcW"
      },
      "source": [
        "#6. Decision Tree"
      ]
    },
    {
      "cell_type": "code",
      "metadata": {
        "colab": {
          "base_uri": "https://localhost:8080/"
        },
        "id": "BBduWOmjLI-Y",
        "outputId": "4ee85477-a3ce-4ecb-8633-b9707a9c7450"
      },
      "source": [
        "from sklearn.tree import DecisionTreeClassifier\n",
        "\n",
        "tree = DecisionTreeClassifier(criterion='entropy', random_state=0)\n",
        "tree.fit(X_train, y_train)"
      ],
      "execution_count": 133,
      "outputs": [
        {
          "output_type": "execute_result",
          "data": {
            "text/plain": [
              "DecisionTreeClassifier(ccp_alpha=0.0, class_weight=None, criterion='entropy',\n",
              "                       max_depth=None, max_features=None, max_leaf_nodes=None,\n",
              "                       min_impurity_decrease=0.0, min_impurity_split=None,\n",
              "                       min_samples_leaf=1, min_samples_split=2,\n",
              "                       min_weight_fraction_leaf=0.0, presort='deprecated',\n",
              "                       random_state=0, splitter='best')"
            ]
          },
          "metadata": {
            "tags": []
          },
          "execution_count": 133
        }
      ]
    },
    {
      "cell_type": "code",
      "metadata": {
        "id": "Z3cF_SaEQbqq"
      },
      "source": [
        "y_pred_dt = tree.predict(X_test)\n",
        "y_pred_train_dt = tree.predict(X_train)"
      ],
      "execution_count": 134,
      "outputs": []
    },
    {
      "cell_type": "code",
      "metadata": {
        "colab": {
          "base_uri": "https://localhost:8080/"
        },
        "id": "ccQOubAvQnqV",
        "outputId": "00d2861f-ff63-4464-dac1-3dee99315cbd"
      },
      "source": [
        "print('Akurasi Model: {0:0.4f}'. format(accuracy_score(y_test, y_pred_dt)*100), \"%\")\n",
        "print('Akurasi Traing set: {0:0.4f}'. format(accuracy_score(y_train, y_pred_train_dt)*100), \"%\")"
      ],
      "execution_count": 135,
      "outputs": [
        {
          "output_type": "stream",
          "text": [
            "Akurasi Model: 73.8305 %\n",
            "Akurasi Traing set: 100.0000 %\n"
          ],
          "name": "stdout"
        }
      ]
    },
    {
      "cell_type": "markdown",
      "metadata": {
        "id": "LgIRol1TQu6u"
      },
      "source": [
        "Hasil yang diperoleh dari algoritma Decision Tree adalah akurasi model dengan 73.5% dan akurasi training set dengan 100%."
      ]
    },
    {
      "cell_type": "markdown",
      "metadata": {
        "id": "QKBYCMmyUYYZ"
      },
      "source": [
        "#7. Kesimpulan"
      ]
    },
    {
      "cell_type": "markdown",
      "metadata": {
        "id": "QfHLSzwFUb2h"
      },
      "source": [
        "Dari hasil akurasi 3 algoritma classifier tersebut, maka dapat disimpulkan bahwa algoritma Random Forest merupakan algoritma yang mempunyai akurasi model dan akurasi training set yang cukup memuaskan, meskipun akurasi training set dari algoritma Decision Tree adalah 100%. Alasan yang dapat disimpulkan adalah karena Algoritma Random Forest mempunyai kinerja yang tinggi untuk dataset yang berjumlah banyak.\n",
        "\n",
        "Meskipun akurasi training set dari algoritma Decision Tree adalah 100%, akurasi model yang dicapai adalah 74.5%. Ini membuktikan bahwa selain KNN, Decision Tree tidak berkinerja tinggi dengan dataset yang berjumlah banyak."
      ]
    },
    {
      "cell_type": "markdown",
      "metadata": {
        "id": "RL6S5ApSji6w"
      },
      "source": [
        "#8. Export Data2"
      ]
    },
    {
      "cell_type": "code",
      "metadata": {
        "id": "p54Cl89oUX2j"
      },
      "source": [
        "#dataset knn"
      ],
      "execution_count": 136,
      "outputs": []
    },
    {
      "cell_type": "code",
      "metadata": {
        "id": "5zMnGGdUjJoQ"
      },
      "source": [
        "y_pred_knn = pd.DataFrame(y_pred_knn)"
      ],
      "execution_count": 137,
      "outputs": []
    },
    {
      "cell_type": "code",
      "metadata": {
        "id": "NZqz-A0Givai"
      },
      "source": [
        "y_pred_knn.to_csv('y_pred_knn.csv')"
      ],
      "execution_count": 138,
      "outputs": []
    },
    {
      "cell_type": "code",
      "metadata": {
        "id": "ZiRxV02qiz7Q"
      },
      "source": [
        "y_pred_train_knn = pd.DataFrame(y_pred_train_knn)"
      ],
      "execution_count": 139,
      "outputs": []
    },
    {
      "cell_type": "code",
      "metadata": {
        "id": "2M4MR0IijaYZ"
      },
      "source": [
        "y_pred_train_knn.to_csv('y_pred_train_knn.csv')"
      ],
      "execution_count": 140,
      "outputs": []
    },
    {
      "cell_type": "code",
      "metadata": {
        "id": "NjwCso4djf0K"
      },
      "source": [
        "#dataset random forest"
      ],
      "execution_count": 141,
      "outputs": []
    },
    {
      "cell_type": "code",
      "metadata": {
        "id": "ZKNiTeXcj00L"
      },
      "source": [
        "y_pred_rf = pd.DataFrame(y_pred_rf)"
      ],
      "execution_count": 142,
      "outputs": []
    },
    {
      "cell_type": "code",
      "metadata": {
        "id": "7sGR0i0Ij6qx"
      },
      "source": [
        "y_pred_rf.to_csv('y_pred_rf.csv')"
      ],
      "execution_count": 143,
      "outputs": []
    },
    {
      "cell_type": "code",
      "metadata": {
        "id": "b11skZ8Qj947"
      },
      "source": [
        "y_pred_train_rf = pd.DataFrame(y_pred_train_rf)"
      ],
      "execution_count": 144,
      "outputs": []
    },
    {
      "cell_type": "code",
      "metadata": {
        "id": "tRfJZIpYkGWG"
      },
      "source": [
        "y_pred_train_rf.to_csv('y_pred_train_rf.csv')"
      ],
      "execution_count": 145,
      "outputs": []
    },
    {
      "cell_type": "code",
      "metadata": {
        "id": "CGfX6r3gkLJq"
      },
      "source": [
        "#dataset decision tree"
      ],
      "execution_count": 146,
      "outputs": []
    },
    {
      "cell_type": "code",
      "metadata": {
        "id": "NG0sW6BpkPMZ"
      },
      "source": [
        "y_pred_dt = pd.DataFrame(y_pred_dt)"
      ],
      "execution_count": 147,
      "outputs": []
    },
    {
      "cell_type": "code",
      "metadata": {
        "id": "0DwAiFpzkbqv"
      },
      "source": [
        "y_pred_dt.to_csv('y_pred_dt.csv')"
      ],
      "execution_count": 148,
      "outputs": []
    },
    {
      "cell_type": "code",
      "metadata": {
        "id": "ONKSOJQ4kgaY"
      },
      "source": [
        "y_pred_train_dt = pd.DataFrame(y_pred_train_dt)"
      ],
      "execution_count": 149,
      "outputs": []
    },
    {
      "cell_type": "code",
      "metadata": {
        "id": "mXHtsGCgkmoE"
      },
      "source": [
        "y_pred_train_dt.to_csv('y_pred_train_dt.csv')"
      ],
      "execution_count": 150,
      "outputs": []
    },
    {
      "cell_type": "markdown",
      "metadata": {
        "id": "-577LT9x5ihP"
      },
      "source": [
        "#8. Graph "
      ]
    },
    {
      "cell_type": "code",
      "metadata": {
        "id": "KfEtvuxCkrYo"
      },
      "source": [
        "akurasi_model_knn = accuracy_score(y_test, y_pred_knn)*100\n",
        "akurasi_model_rf = accuracy_score(y_test, y_pred_rf)*100\n",
        "akurasi_model_dt = accuracy_score(y_test, y_pred_dt)*100\n",
        "\n",
        "akurasi_trainset_knn = accuracy_score(y_train, y_pred_train_knn)*100\n",
        "akurasi_trainset_rf = accuracy_score(y_train, y_pred_train_rf)*100\n",
        "akurasi_trainset_dt = accuracy_score(y_train, y_pred_train_dt)*100"
      ],
      "execution_count": 152,
      "outputs": []
    },
    {
      "cell_type": "code",
      "metadata": {
        "colab": {
          "base_uri": "https://localhost:8080/",
          "height": 312
        },
        "id": "BYg0z-H46vol",
        "outputId": "ec33b724-f2dc-4b33-ffff-b5a03b3c930d"
      },
      "source": [
        "#graph \n",
        "\n",
        "algoritma = ['KNN','Random Forest','Decision tree']\n",
        "model = (akurasi_model_knn, akurasi_model_rf, akurasi_model_dt)\n",
        "trainset = (akurasi_trainset_knn, akurasi_trainset_rf, akurasi_trainset_dt)\n",
        "\n",
        "plt.bar(algoritma, model, color='blue')\n",
        "plt.title('Akurasi Model KNN, Random Forest, dan Decision Tree')\n",
        "plt.xlabel('Algoritma Klasifikasi')\n",
        "plt.ylabel('Akurasi (%)')"
      ],
      "execution_count": 162,
      "outputs": [
        {
          "output_type": "execute_result",
          "data": {
            "text/plain": [
              "Text(0, 0.5, 'Akurasi (%)')"
            ]
          },
          "metadata": {
            "tags": []
          },
          "execution_count": 162
        },
        {
          "output_type": "display_data",
          "data": {
            "image/png": "[encoded data removed]",
            "text/plain": [
              "<Figure size 432x288 with 1 Axes>"
            ]
          },
          "metadata": {
            "tags": [],
            "needs_background": "light"
          }
        }
      ]
    },
    {
      "cell_type": "code",
      "metadata": {
        "colab": {
          "base_uri": "https://localhost:8080/",
          "height": 312
        },
        "id": "KdsWMBP48O1e",
        "outputId": "985efd5a-927a-4dbc-c2ee-bb545be29e8b"
      },
      "source": [
        "plt.bar(algoritma, trainset, color='red')\n",
        "plt.title('Akurasi Training Set KNN, Random Forest, dan Decision Tree')\n",
        "plt.xlabel('Algoritma Klasifikasi')\n",
        "plt.ylabel('Akurasi (%)')"
      ],
      "execution_count": 161,
      "outputs": [
        {
          "output_type": "execute_result",
          "data": {
            "text/plain": [
              "Text(0, 0.5, 'Akurasi (%)')"
            ]
          },
          "metadata": {
            "tags": []
          },
          "execution_count": 161
        },
        {
          "output_type": "display_data",
          "data": {
            "image/png": "[encoded data removed]",
            "text/plain": [
              "<Figure size 432x288 with 1 Axes>"
            ]
          },
          "metadata": {
            "tags": [],
            "needs_background": "light"
          }
        }
      ]
    },
    {
      "cell_type": "code",
      "metadata": {
        "id": "QfjpmQvS9V9I"
      },
      "source": [
        ""
      ],
      "execution_count": null,
      "outputs": []
    }
  ]
}